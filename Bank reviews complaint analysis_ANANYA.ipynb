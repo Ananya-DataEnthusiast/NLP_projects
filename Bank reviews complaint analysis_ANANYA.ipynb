{
 "cells": [
  {
   "cell_type": "markdown",
   "metadata": {},
   "source": [
    "<div style=\"background-image: url('https://teoleo.app/wp-content/uploads/2019/06/online-reviews-670x335.jpg');\n",
    "background-size: 100% 100%;\n",
    "font-size: 300%\">\n",
    "\n",
    "<strong><br><br><br><br><br><br><br><br><br><br><br><br>BANK  COMPLAINT ANALYSIS<br><br></strong>\n",
    "</div>"
   ]
  },
  {
   "cell_type": "markdown",
   "metadata": {},
   "source": [
    "# BUSINESS CONTEXT :\n",
    "Central Banks collecting information about customer satisfaction with the services provided by different bank. Also collects the information about the complaints.\n",
    "\n",
    "Bank users give ratings and write reviews about services on central bank websites. These reviews and ratings help to banks evaluate services provided and take neccesory action to improve customer services. While ratings are useful to convey the overall experience, they do not convey the context which led a reviewer to that experience.\n",
    "\n",
    "If we look at only the rating , it is difficult to guess why the user rated the service as 4 star. However after reading the review it is not difficult to identify that the review talks about the good 'service' and 'expectations'.\n",
    "\n",
    "BUSINESS PROBELEM :\n",
    "The objective of this case study is to analyze customer reviews and predict customer satisfaction with the reviews.\n",
    "\n"
   ]
  },
  {
   "cell_type": "markdown",
   "metadata": {},
   "source": [
    "<div style=\"background-color:#9ACD32;text-align:center;font-size: 300%\"><strong><br>\n",
    "PART- I:<br><br> Importing Libraries & Dataset\n",
    "<br><br></strong></div>"
   ]
  },
  {
   "cell_type": "markdown",
   "metadata": {},
   "source": [
    "# Importing required packages"
   ]
  },
  {
   "cell_type": "code",
   "execution_count": 3,
   "metadata": {},
   "outputs": [],
   "source": [
    "#basics\n",
    "import pandas as pd \n",
    "import numpy as np\n",
    "\n",
    "#visualization\n",
    "import matplotlib.pyplot as plt\n",
    "import matplotlib.gridspec as gridspec \n",
    "%matplotlib inline\n",
    "import seaborn as sns"
   ]
  },
  {
   "cell_type": "code",
   "execution_count": 4,
   "metadata": {},
   "outputs": [],
   "source": [
    "#nlp\n",
    "import re    #for regex\n",
    "import string\n",
    "\n",
    "import nltk\n",
    "from nltk.corpus import stopwords\n",
    "from nltk import pos_tag\n",
    "from nltk.tokenize import word_tokenize\n",
    "from nltk.tokenize import TweetTokenizer   # Tweet tokenizer does not split at apostophes which is what we want\n",
    "from nltk.stem import PorterStemmer\n",
    "from nltk.stem.wordnet import WordNetLemmatizer \n",
    "from PIL import Image\n",
    "\n",
    "#misc\n",
    "import warnings\n",
    "warnings.filterwarnings(\"ignore\")\n",
    "#!pip install textblob\n",
    "import  textblob\n",
    "from textblob import TextBlob"
   ]
  },
  {
   "cell_type": "code",
   "execution_count": 51,
   "metadata": {},
   "outputs": [],
   "source": [
    "#settings\n",
    "sns.set_style(\"whitegrid\")\n",
    "stop_words = set(stopwords.words(\"english\"))\n",
    "lem = WordNetLemmatizer()\n",
    "tokenizer=TweetTokenizer()"
   ]
  },
  {
   "cell_type": "code",
   "execution_count": 109,
   "metadata": {},
   "outputs": [],
   "source": [
    "from sklearn import model_selection, preprocessing, linear_model, naive_bayes, metrics, svm, decomposition, ensemble\n",
    "from sklearn.model_selection import train_test_split\n",
    "from sklearn.feature_extraction.text import TfidfVectorizer, CountVectorizer, TfidfTransformer\n",
    "from sklearn.linear_model import LogisticRegression\n",
    "from sklearn.ensemble import RandomForestClassifier\n",
    "from sklearn.neural_network import MLPClassifier\n",
    "from scipy import sparse"
   ]
  },
  {
   "cell_type": "code",
   "execution_count": 131,
   "metadata": {},
   "outputs": [],
   "source": []
  },
  {
   "cell_type": "markdown",
   "metadata": {},
   "source": [
    "# Importing reviews-dataset"
   ]
  },
  {
   "cell_type": "code",
   "execution_count": 7,
   "metadata": {},
   "outputs": [],
   "source": [
    "import os\n",
    "os.chdir(\"C:\\\\Users\\\\user\\\\Desktop\\\\Alab_Python\\\\Final Projects in Python\\\\5. Bank Reviews-Complaints Analysis\")\n",
    "\n",
    "bank_reviews = pd.read_excel(\"BankReviews.xlsx\")"
   ]
  },
  {
   "cell_type": "code",
   "execution_count": 8,
   "metadata": {},
   "outputs": [
    {
     "data": {
      "text/html": [
       "<div>\n",
       "<style scoped>\n",
       "    .dataframe tbody tr th:only-of-type {\n",
       "        vertical-align: middle;\n",
       "    }\n",
       "\n",
       "    .dataframe tbody tr th {\n",
       "        vertical-align: top;\n",
       "    }\n",
       "\n",
       "    .dataframe thead th {\n",
       "        text-align: right;\n",
       "    }\n",
       "</style>\n",
       "<table border=\"1\" class=\"dataframe\">\n",
       "  <thead>\n",
       "    <tr style=\"text-align: right;\">\n",
       "      <th></th>\n",
       "      <th>Date</th>\n",
       "      <th>Stars</th>\n",
       "      <th>Reviews</th>\n",
       "      <th>BankName</th>\n",
       "    </tr>\n",
       "  </thead>\n",
       "  <tbody>\n",
       "    <tr>\n",
       "      <th>0</th>\n",
       "      <td>2017-04-10</td>\n",
       "      <td>5</td>\n",
       "      <td>Great job, Wyndham Capital! Each person was pr...</td>\n",
       "      <td>Wyndham Capital Mortgage</td>\n",
       "    </tr>\n",
       "    <tr>\n",
       "      <th>1</th>\n",
       "      <td>2017-02-10</td>\n",
       "      <td>5</td>\n",
       "      <td>Matthew Richardson is professional and helpful...</td>\n",
       "      <td>Wyndham Capital Mortgage</td>\n",
       "    </tr>\n",
       "    <tr>\n",
       "      <th>2</th>\n",
       "      <td>2017-08-21</td>\n",
       "      <td>5</td>\n",
       "      <td>We had a past experience with Wyndham Mortgage...</td>\n",
       "      <td>Wyndham Capital Mortgage</td>\n",
       "    </tr>\n",
       "    <tr>\n",
       "      <th>3</th>\n",
       "      <td>2017-12-17</td>\n",
       "      <td>5</td>\n",
       "      <td>We have been dealing with Brad Thomka from the...</td>\n",
       "      <td>Wyndham Capital Mortgage</td>\n",
       "    </tr>\n",
       "    <tr>\n",
       "      <th>4</th>\n",
       "      <td>2016-05-27</td>\n",
       "      <td>5</td>\n",
       "      <td>I can't express how grateful I am for the supp...</td>\n",
       "      <td>Wyndham Capital Mortgage</td>\n",
       "    </tr>\n",
       "  </tbody>\n",
       "</table>\n",
       "</div>"
      ],
      "text/plain": [
       "        Date  Stars                                            Reviews  \\\n",
       "0 2017-04-10      5  Great job, Wyndham Capital! Each person was pr...   \n",
       "1 2017-02-10      5  Matthew Richardson is professional and helpful...   \n",
       "2 2017-08-21      5  We had a past experience with Wyndham Mortgage...   \n",
       "3 2017-12-17      5  We have been dealing with Brad Thomka from the...   \n",
       "4 2016-05-27      5  I can't express how grateful I am for the supp...   \n",
       "\n",
       "                   BankName  \n",
       "0  Wyndham Capital Mortgage  \n",
       "1  Wyndham Capital Mortgage  \n",
       "2  Wyndham Capital Mortgage  \n",
       "3  Wyndham Capital Mortgage  \n",
       "4  Wyndham Capital Mortgage  "
      ]
     },
     "execution_count": 8,
     "metadata": {},
     "output_type": "execute_result"
    }
   ],
   "source": [
    "bank_reviews.head()"
   ]
  },
  {
   "cell_type": "code",
   "execution_count": 9,
   "metadata": {},
   "outputs": [
    {
     "data": {
      "text/plain": [
       "(505, 4)"
      ]
     },
     "execution_count": 9,
     "metadata": {},
     "output_type": "execute_result"
    }
   ],
   "source": [
    "bank_reviews.shape"
   ]
  },
  {
   "cell_type": "code",
   "execution_count": 10,
   "metadata": {},
   "outputs": [
    {
     "data": {
      "text/plain": [
       "Index(['Date', 'Stars', 'Reviews', 'BankName'], dtype='object')"
      ]
     },
     "execution_count": 10,
     "metadata": {},
     "output_type": "execute_result"
    }
   ],
   "source": [
    "bank_reviews.columns"
   ]
  },
  {
   "cell_type": "code",
   "execution_count": 11,
   "metadata": {},
   "outputs": [
    {
     "name": "stdout",
     "output_type": "stream",
     "text": [
      "<class 'pandas.core.frame.DataFrame'>\n",
      "RangeIndex: 505 entries, 0 to 504\n",
      "Data columns (total 4 columns):\n",
      "Date        505 non-null datetime64[ns]\n",
      "Stars       505 non-null int64\n",
      "Reviews     505 non-null object\n",
      "BankName    505 non-null object\n",
      "dtypes: datetime64[ns](1), int64(1), object(2)\n",
      "memory usage: 15.9+ KB\n"
     ]
    }
   ],
   "source": [
    "bank_reviews.info()"
   ]
  },
  {
   "cell_type": "markdown",
   "metadata": {},
   "source": [
    "## Checking missing values in the dataset"
   ]
  },
  {
   "cell_type": "code",
   "execution_count": null,
   "metadata": {},
   "outputs": [],
   "source": []
  },
  {
   "cell_type": "code",
   "execution_count": 12,
   "metadata": {},
   "outputs": [
    {
     "data": {
      "text/plain": [
       "Date        0\n",
       "Stars       0\n",
       "Reviews     0\n",
       "BankName    0\n",
       "dtype: int64"
      ]
     },
     "execution_count": 12,
     "metadata": {},
     "output_type": "execute_result"
    }
   ],
   "source": [
    "bank_reviews.isnull().sum()"
   ]
  },
  {
   "cell_type": "markdown",
   "metadata": {},
   "source": [
    "There is no missing values in the dataset"
   ]
  },
  {
   "cell_type": "markdown",
   "metadata": {},
   "source": [
    "<div style=\"background-color:#9ACD32;text-align:center;font-size: 300%\"><strong><br>\n",
    "PART- II:<br><br> Exploratory  Data Analysis\n",
    "<br><br></strong></div> "
   ]
  },
  {
   "cell_type": "code",
   "execution_count": 13,
   "metadata": {},
   "outputs": [
    {
     "data": {
      "text/html": [
       "<div>\n",
       "<style scoped>\n",
       "    .dataframe tbody tr th:only-of-type {\n",
       "        vertical-align: middle;\n",
       "    }\n",
       "\n",
       "    .dataframe tbody tr th {\n",
       "        vertical-align: top;\n",
       "    }\n",
       "\n",
       "    .dataframe thead th {\n",
       "        text-align: right;\n",
       "    }\n",
       "</style>\n",
       "<table border=\"1\" class=\"dataframe\">\n",
       "  <thead>\n",
       "    <tr style=\"text-align: right;\">\n",
       "      <th></th>\n",
       "      <th>Date</th>\n",
       "      <th>Stars</th>\n",
       "      <th>Reviews</th>\n",
       "      <th>BankName</th>\n",
       "    </tr>\n",
       "  </thead>\n",
       "  <tbody>\n",
       "    <tr>\n",
       "      <th>0</th>\n",
       "      <td>2017-04-10</td>\n",
       "      <td>5</td>\n",
       "      <td>Great job, Wyndham Capital! Each person was pr...</td>\n",
       "      <td>Wyndham Capital Mortgage</td>\n",
       "    </tr>\n",
       "    <tr>\n",
       "      <th>1</th>\n",
       "      <td>2017-02-10</td>\n",
       "      <td>5</td>\n",
       "      <td>Matthew Richardson is professional and helpful...</td>\n",
       "      <td>Wyndham Capital Mortgage</td>\n",
       "    </tr>\n",
       "    <tr>\n",
       "      <th>2</th>\n",
       "      <td>2017-08-21</td>\n",
       "      <td>5</td>\n",
       "      <td>We had a past experience with Wyndham Mortgage...</td>\n",
       "      <td>Wyndham Capital Mortgage</td>\n",
       "    </tr>\n",
       "  </tbody>\n",
       "</table>\n",
       "</div>"
      ],
      "text/plain": [
       "        Date  Stars                                            Reviews  \\\n",
       "0 2017-04-10      5  Great job, Wyndham Capital! Each person was pr...   \n",
       "1 2017-02-10      5  Matthew Richardson is professional and helpful...   \n",
       "2 2017-08-21      5  We had a past experience with Wyndham Mortgage...   \n",
       "\n",
       "                   BankName  \n",
       "0  Wyndham Capital Mortgage  \n",
       "1  Wyndham Capital Mortgage  \n",
       "2  Wyndham Capital Mortgage  "
      ]
     },
     "execution_count": 13,
     "metadata": {},
     "output_type": "execute_result"
    }
   ],
   "source": [
    "review=pd.read_excel(\"BankReviews.xlsx\")\n",
    "review.head(3)"
   ]
  },
  {
   "cell_type": "code",
   "execution_count": 14,
   "metadata": {},
   "outputs": [
    {
     "data": {
      "text/plain": [
       "Date        datetime64[ns]\n",
       "Stars                int64\n",
       "Reviews             object\n",
       "BankName            object\n",
       "dtype: object"
      ]
     },
     "execution_count": 14,
     "metadata": {},
     "output_type": "execute_result"
    }
   ],
   "source": [
    "review.dtypes"
   ]
  },
  {
   "cell_type": "markdown",
   "metadata": {},
   "source": [
    "## Creating different columns for analysis"
   ]
  },
  {
   "cell_type": "code",
   "execution_count": 15,
   "metadata": {},
   "outputs": [
    {
     "data": {
      "text/html": [
       "<div>\n",
       "<style scoped>\n",
       "    .dataframe tbody tr th:only-of-type {\n",
       "        vertical-align: middle;\n",
       "    }\n",
       "\n",
       "    .dataframe tbody tr th {\n",
       "        vertical-align: top;\n",
       "    }\n",
       "\n",
       "    .dataframe thead th {\n",
       "        text-align: right;\n",
       "    }\n",
       "</style>\n",
       "<table border=\"1\" class=\"dataframe\">\n",
       "  <thead>\n",
       "    <tr style=\"text-align: right;\">\n",
       "      <th></th>\n",
       "      <th>Date</th>\n",
       "      <th>Stars</th>\n",
       "      <th>Reviews</th>\n",
       "      <th>BankName</th>\n",
       "      <th>count_sent</th>\n",
       "    </tr>\n",
       "  </thead>\n",
       "  <tbody>\n",
       "    <tr>\n",
       "      <th>0</th>\n",
       "      <td>2017-04-10</td>\n",
       "      <td>5</td>\n",
       "      <td>Great job, Wyndham Capital! Each person was pr...</td>\n",
       "      <td>Wyndham Capital Mortgage</td>\n",
       "      <td>1</td>\n",
       "    </tr>\n",
       "    <tr>\n",
       "      <th>1</th>\n",
       "      <td>2017-02-10</td>\n",
       "      <td>5</td>\n",
       "      <td>Matthew Richardson is professional and helpful...</td>\n",
       "      <td>Wyndham Capital Mortgage</td>\n",
       "      <td>1</td>\n",
       "    </tr>\n",
       "  </tbody>\n",
       "</table>\n",
       "</div>"
      ],
      "text/plain": [
       "        Date  Stars                                            Reviews  \\\n",
       "0 2017-04-10      5  Great job, Wyndham Capital! Each person was pr...   \n",
       "1 2017-02-10      5  Matthew Richardson is professional and helpful...   \n",
       "\n",
       "                   BankName  count_sent  \n",
       "0  Wyndham Capital Mortgage           1  \n",
       "1  Wyndham Capital Mortgage           1  "
      ]
     },
     "execution_count": 15,
     "metadata": {},
     "output_type": "execute_result"
    }
   ],
   "source": [
    "review['Reviews'] = review['Reviews'].astype(str)\n",
    "review.head(2)"
   ]
  },
  {
   "cell_type": "code",
   "execution_count": 15,
   "metadata": {},
   "outputs": [],
   "source": [
    "#sentence count \n",
    "review['count_sentence']=review['Reviews'].apply(lambda x: len(re.findall(\"\\n\",str(x)))+1)\n",
    "\n",
    "#Word count in each comment:\n",
    "review['count_word']=review['Reviews'].apply(lambda x: len(str(x).split()))\n",
    "#Unique word count\n",
    "review['count_unique_word']=review['Reviews'].apply(lambda x: len(set(str(x).split())))\n",
    "\n",
    "# Count the occurences of each words of a comment in a dictionary-format\n",
    "review['wordcounts'] = review['Reviews'].apply(lambda x :dict([ [t, x.split().count(t)] for t in set(x.split()) ]))\n",
    "\n",
    "#Average length of the words\n",
    "review[\"mean_word_len\"] = review['Reviews'].apply(lambda x: np.mean([len(w) for w in str(x).split()]))\n",
    "\n",
    "#review.head(2)"
   ]
  },
  {
   "cell_type": "code",
   "execution_count": 16,
   "metadata": {},
   "outputs": [],
   "source": [
    "#Letter count\n",
    "review['count_letters']=review['Reviews'].apply(lambda x: len(str(x)))\n",
    "\n",
    "#letter-density per word\n",
    "review['letter_density/word'] = review['count_letters'] / (review['count_word']+1)"
   ]
  },
  {
   "cell_type": "code",
   "execution_count": 17,
   "metadata": {},
   "outputs": [],
   "source": [
    "#upper case words count\n",
    "review[\"count_words_upper\"] = review['Reviews'].apply(lambda x: len([w for w in str(x).split() if w.isupper()]))\n",
    "#lower case words count\n",
    "review[\"count_words_lower\"] = review['Reviews'].apply(lambda x: len([w for w in str(x).split() if w.islower()]))\n",
    "#title case words count\n",
    "review[\"count_words_title\"] = review['Reviews'].apply(lambda x: len([w for w in str(x).split() if w.istitle()]))"
   ]
  },
  {
   "cell_type": "code",
   "execution_count": 18,
   "metadata": {},
   "outputs": [],
   "source": [
    "#punctuation count\n",
    "review[\"count_punctuations\"] =review['Reviews'].apply(lambda x: len([c for c in str(x) if c in string.punctuation]))\n",
    "#Number of stopwords\n",
    "review[\"count_stopwords\"] = review['Reviews'].apply(lambda x: len([w for w in str(x).lower().split() if w in eng_stopwords]))\n",
    "#Number of spaces\n",
    "review['Spaces'] = review['Reviews'].apply(lambda x :len([x for x in x.split() if x.isspace()]))"
   ]
  },
  {
   "cell_type": "code",
   "execution_count": 19,
   "metadata": {},
   "outputs": [],
   "source": [
    "#Number of numeric\n",
    "review['numeric'] = review['Reviews'].apply(lambda x :len([x for x in x.split() if x.isdigit()]))\n",
    "#Number of alphabets\n",
    "review['alphabets'] = review['Reviews'].apply(lambda x :len([x for x in x.split() if x.isalpha()]))\n",
    "#Number of alphanumeric\n",
    "review['alphanumeric'] = review['Reviews'].apply(lambda x :len([x for x in x.split() if x.isalnum()]))"
   ]
  },
  {
   "cell_type": "code",
   "execution_count": 20,
   "metadata": {},
   "outputs": [],
   "source": [
    "#Number of Words ends with 'et'\n",
    "review['words_ends_with_et'] = review['Reviews'].apply(lambda x :len([x for x in x.lower().split() if x.endswith('et')]))\n",
    "\n",
    "#Number of Words start with 'no'\n",
    "review['words_start_with_no'] = review['Reviews'].apply(lambda x :len([x for x in x.lower().split() if x.startswith('no')]))"
   ]
  },
  {
   "cell_type": "code",
   "execution_count": 21,
   "metadata": {},
   "outputs": [
    {
     "data": {
      "text/plain": [
       "Index(['Date', 'Stars', 'Reviews', 'BankName', 'count_sentence', 'count_word',\n",
       "       'count_unique_word', 'wordcounts', 'mean_word_len', 'count_letters',\n",
       "       'letter_density/word', 'count_words_upper', 'count_words_lower',\n",
       "       'count_words_title', 'count_punctuations', 'count_stopwords', 'Spaces',\n",
       "       'numeric', 'alphabets', 'alphanumeric', 'words_ends_with_et',\n",
       "       'words_start_with_no'],\n",
       "      dtype='object')"
      ]
     },
     "execution_count": 21,
     "metadata": {},
     "output_type": "execute_result"
    }
   ],
   "source": [
    "review.columns"
   ]
  },
  {
   "cell_type": "markdown",
   "metadata": {},
   "source": [
    "## Parts-Of-Speech tagging/ Pos tagging"
   ]
  },
  {
   "cell_type": "code",
   "execution_count": 22,
   "metadata": {},
   "outputs": [
    {
     "name": "stdout",
     "output_type": "stream",
     "text": [
      "blob: <class 'list'> \n",
      "blob-elements: <class 'tuple'>\n"
     ]
    },
    {
     "data": {
      "text/plain": [
       "[('Thank', 'NNP'),\n",
       " ('you', 'PRP'),\n",
       " ('very', 'RB'),\n",
       " ('much', 'RB'),\n",
       " ('for', 'IN'),\n",
       " ('the', 'DT'),\n",
       " ('excellent', 'JJ'),\n",
       " ('service', 'NN'),\n",
       " ('Matthew', 'NNP')]"
      ]
     },
     "execution_count": 22,
     "metadata": {},
     "output_type": "execute_result"
    }
   ],
   "source": [
    "mystring=\"Thank you very much for the excellent service, Matthew!\"\n",
    "blob=TextBlob(mystring).tags\n",
    "print(\"blob:\",type(blob),\"\\nblob-elements:\",type(blob[0]))\n",
    "blob"
   ]
  },
  {
   "cell_type": "markdown",
   "metadata": {},
   "source": [
    "##### dictionary for different parts of speechictionary for pos tags "
   ]
  },
  {
   "cell_type": "code",
   "execution_count": 23,
   "metadata": {},
   "outputs": [],
   "source": [
    "pos_dict= {'noun' : ['NN','NNS','NNP','NNPS'],\n",
    "           'pronoun' : ['PRP','PRP$','WP','WP$'],\n",
    "            'verb' : ['VB','VBD','VBG','VBN','VBP','VBZ'],\n",
    "           'adj' :  ['JJ','JJR','JJS'],\n",
    "           'adv' : ['RB','RBR','RBS','WRB'] \n",
    "          }"
   ]
  },
  {
   "cell_type": "markdown",
   "metadata": {},
   "source": [
    "##### function to check and get the part of speech tag count of a words in a given sentence"
   ]
  },
  {
   "cell_type": "code",
   "execution_count": 24,
   "metadata": {},
   "outputs": [],
   "source": [
    "def pos_count(words, pos_key):\n",
    "    count = 0\n",
    "    try:\n",
    "        for tup in TextBlob(words).tags:\n",
    "            pos_tag = tup[1]\n",
    "            if pos_tag in pos_dict[pos_key]:\n",
    "                count += 1\n",
    "    except:\n",
    "        pass\n",
    "    return count"
   ]
  },
  {
   "cell_type": "code",
   "execution_count": 25,
   "metadata": {},
   "outputs": [],
   "source": [
    "for key in pos_dict.keys():\n",
    "    review[key+'_count']=review['Reviews'].apply(lambda x: pos_count(x,key))"
   ]
  },
  {
   "cell_type": "code",
   "execution_count": 26,
   "metadata": {},
   "outputs": [
    {
     "data": {
      "text/html": [
       "<div>\n",
       "<style scoped>\n",
       "    .dataframe tbody tr th:only-of-type {\n",
       "        vertical-align: middle;\n",
       "    }\n",
       "\n",
       "    .dataframe tbody tr th {\n",
       "        vertical-align: top;\n",
       "    }\n",
       "\n",
       "    .dataframe thead th {\n",
       "        text-align: right;\n",
       "    }\n",
       "</style>\n",
       "<table border=\"1\" class=\"dataframe\">\n",
       "  <thead>\n",
       "    <tr style=\"text-align: right;\">\n",
       "      <th></th>\n",
       "      <th>noun_count</th>\n",
       "      <th>pronoun_count</th>\n",
       "      <th>verb_count</th>\n",
       "      <th>adj_count</th>\n",
       "      <th>adv_count</th>\n",
       "    </tr>\n",
       "  </thead>\n",
       "  <tbody>\n",
       "    <tr>\n",
       "      <th>0</th>\n",
       "      <td>8</td>\n",
       "      <td>3</td>\n",
       "      <td>3</td>\n",
       "      <td>1</td>\n",
       "      <td>1</td>\n",
       "    </tr>\n",
       "    <tr>\n",
       "      <th>1</th>\n",
       "      <td>7</td>\n",
       "      <td>4</td>\n",
       "      <td>3</td>\n",
       "      <td>4</td>\n",
       "      <td>2</td>\n",
       "    </tr>\n",
       "    <tr>\n",
       "      <th>2</th>\n",
       "      <td>24</td>\n",
       "      <td>8</td>\n",
       "      <td>10</td>\n",
       "      <td>5</td>\n",
       "      <td>8</td>\n",
       "    </tr>\n",
       "  </tbody>\n",
       "</table>\n",
       "</div>"
      ],
      "text/plain": [
       "   noun_count  pronoun_count  verb_count  adj_count  adv_count\n",
       "0           8              3           3          1          1\n",
       "1           7              4           3          4          2\n",
       "2          24              8          10          5          8"
      ]
     },
     "execution_count": 26,
     "metadata": {},
     "output_type": "execute_result"
    }
   ],
   "source": [
    "review[['noun_count', 'pronoun_count', 'verb_count',\n",
    "       'adj_count', 'adv_count']].head(3)"
   ]
  },
  {
   "cell_type": "code",
   "execution_count": 27,
   "metadata": {},
   "outputs": [
    {
     "data": {
      "text/html": [
       "<div>\n",
       "<style scoped>\n",
       "    .dataframe tbody tr th:only-of-type {\n",
       "        vertical-align: middle;\n",
       "    }\n",
       "\n",
       "    .dataframe tbody tr th {\n",
       "        vertical-align: top;\n",
       "    }\n",
       "\n",
       "    .dataframe thead th {\n",
       "        text-align: right;\n",
       "    }\n",
       "</style>\n",
       "<table border=\"1\" class=\"dataframe\">\n",
       "  <thead>\n",
       "    <tr style=\"text-align: right;\">\n",
       "      <th></th>\n",
       "      <th>0</th>\n",
       "      <th>1</th>\n",
       "      <th>2</th>\n",
       "      <th>3</th>\n",
       "      <th>4</th>\n",
       "    </tr>\n",
       "  </thead>\n",
       "  <tbody>\n",
       "    <tr>\n",
       "      <th>Date</th>\n",
       "      <td>2017-04-10 00:00:00</td>\n",
       "      <td>2017-02-10 00:00:00</td>\n",
       "      <td>2017-08-21 00:00:00</td>\n",
       "      <td>2017-12-17 00:00:00</td>\n",
       "      <td>2016-05-27 00:00:00</td>\n",
       "    </tr>\n",
       "    <tr>\n",
       "      <th>Stars</th>\n",
       "      <td>5</td>\n",
       "      <td>5</td>\n",
       "      <td>5</td>\n",
       "      <td>5</td>\n",
       "      <td>5</td>\n",
       "    </tr>\n",
       "    <tr>\n",
       "      <th>Reviews</th>\n",
       "      <td>Great job, Wyndham Capital! Each person was pr...</td>\n",
       "      <td>Matthew Richardson is professional and helpful...</td>\n",
       "      <td>We had a past experience with Wyndham Mortgage...</td>\n",
       "      <td>We have been dealing with Brad Thomka from the...</td>\n",
       "      <td>I can't express how grateful I am for the supp...</td>\n",
       "    </tr>\n",
       "    <tr>\n",
       "      <th>BankName</th>\n",
       "      <td>Wyndham Capital Mortgage</td>\n",
       "      <td>Wyndham Capital Mortgage</td>\n",
       "      <td>Wyndham Capital Mortgage</td>\n",
       "      <td>Wyndham Capital Mortgage</td>\n",
       "      <td>Wyndham Capital Mortgage</td>\n",
       "    </tr>\n",
       "    <tr>\n",
       "      <th>count_sentence</th>\n",
       "      <td>1</td>\n",
       "      <td>1</td>\n",
       "      <td>1</td>\n",
       "      <td>1</td>\n",
       "      <td>1</td>\n",
       "    </tr>\n",
       "    <tr>\n",
       "      <th>count_word</th>\n",
       "      <td>19</td>\n",
       "      <td>25</td>\n",
       "      <td>79</td>\n",
       "      <td>108</td>\n",
       "      <td>59</td>\n",
       "    </tr>\n",
       "    <tr>\n",
       "      <th>count_unique_word</th>\n",
       "      <td>19</td>\n",
       "      <td>23</td>\n",
       "      <td>64</td>\n",
       "      <td>78</td>\n",
       "      <td>47</td>\n",
       "    </tr>\n",
       "    <tr>\n",
       "      <th>wordcounts</th>\n",
       "      <td>{'Great': 1, 'Wyndham': 1, 'us': 1, 'Each': 1,...</td>\n",
       "      <td>{'us': 1, 'Matthew': 1, 'much': 1, 'very': 1, ...</td>\n",
       "      <td>{'right': 1, 'they': 1, 'money.': 1, 'Wyndham'...</td>\n",
       "      <td>{'right': 1, 'out': 1, 'of': 1, 'previous': 1,...</td>\n",
       "      <td>{'how': 1, 'Wyndham': 1, 'none.': 1, 'thorough...</td>\n",
       "    </tr>\n",
       "    <tr>\n",
       "      <th>mean_word_len</th>\n",
       "      <td>5.68421</td>\n",
       "      <td>5.4</td>\n",
       "      <td>4.86076</td>\n",
       "      <td>4.61111</td>\n",
       "      <td>4.79661</td>\n",
       "    </tr>\n",
       "    <tr>\n",
       "      <th>count_letters</th>\n",
       "      <td>126</td>\n",
       "      <td>159</td>\n",
       "      <td>462</td>\n",
       "      <td>605</td>\n",
       "      <td>341</td>\n",
       "    </tr>\n",
       "    <tr>\n",
       "      <th>letter_density/word</th>\n",
       "      <td>6.3</td>\n",
       "      <td>6.11538</td>\n",
       "      <td>5.775</td>\n",
       "      <td>5.55046</td>\n",
       "      <td>5.68333</td>\n",
       "    </tr>\n",
       "    <tr>\n",
       "      <th>count_words_upper</th>\n",
       "      <td>0</td>\n",
       "      <td>0</td>\n",
       "      <td>0</td>\n",
       "      <td>0</td>\n",
       "      <td>3</td>\n",
       "    </tr>\n",
       "    <tr>\n",
       "      <th>count_words_lower</th>\n",
       "      <td>14</td>\n",
       "      <td>20</td>\n",
       "      <td>64</td>\n",
       "      <td>88</td>\n",
       "      <td>50</td>\n",
       "    </tr>\n",
       "    <tr>\n",
       "      <th>count_words_title</th>\n",
       "      <td>5</td>\n",
       "      <td>5</td>\n",
       "      <td>14</td>\n",
       "      <td>18</td>\n",
       "      <td>9</td>\n",
       "    </tr>\n",
       "    <tr>\n",
       "      <th>count_punctuations</th>\n",
       "      <td>4</td>\n",
       "      <td>4</td>\n",
       "      <td>8</td>\n",
       "      <td>9</td>\n",
       "      <td>6</td>\n",
       "    </tr>\n",
       "    <tr>\n",
       "      <th>count_stopwords</th>\n",
       "      <td>5</td>\n",
       "      <td>10</td>\n",
       "      <td>31</td>\n",
       "      <td>49</td>\n",
       "      <td>30</td>\n",
       "    </tr>\n",
       "    <tr>\n",
       "      <th>Spaces</th>\n",
       "      <td>0</td>\n",
       "      <td>0</td>\n",
       "      <td>0</td>\n",
       "      <td>0</td>\n",
       "      <td>0</td>\n",
       "    </tr>\n",
       "    <tr>\n",
       "      <th>numeric</th>\n",
       "      <td>0</td>\n",
       "      <td>0</td>\n",
       "      <td>0</td>\n",
       "      <td>0</td>\n",
       "      <td>0</td>\n",
       "    </tr>\n",
       "    <tr>\n",
       "      <th>alphabets</th>\n",
       "      <td>15</td>\n",
       "      <td>21</td>\n",
       "      <td>73</td>\n",
       "      <td>101</td>\n",
       "      <td>53</td>\n",
       "    </tr>\n",
       "    <tr>\n",
       "      <th>alphanumeric</th>\n",
       "      <td>15</td>\n",
       "      <td>21</td>\n",
       "      <td>73</td>\n",
       "      <td>101</td>\n",
       "      <td>53</td>\n",
       "    </tr>\n",
       "    <tr>\n",
       "      <th>words_ends_with_et</th>\n",
       "      <td>0</td>\n",
       "      <td>0</td>\n",
       "      <td>0</td>\n",
       "      <td>0</td>\n",
       "      <td>0</td>\n",
       "    </tr>\n",
       "    <tr>\n",
       "      <th>words_start_with_no</th>\n",
       "      <td>0</td>\n",
       "      <td>0</td>\n",
       "      <td>1</td>\n",
       "      <td>1</td>\n",
       "      <td>1</td>\n",
       "    </tr>\n",
       "    <tr>\n",
       "      <th>noun_count</th>\n",
       "      <td>8</td>\n",
       "      <td>7</td>\n",
       "      <td>24</td>\n",
       "      <td>30</td>\n",
       "      <td>16</td>\n",
       "    </tr>\n",
       "    <tr>\n",
       "      <th>pronoun_count</th>\n",
       "      <td>3</td>\n",
       "      <td>4</td>\n",
       "      <td>8</td>\n",
       "      <td>11</td>\n",
       "      <td>8</td>\n",
       "    </tr>\n",
       "    <tr>\n",
       "      <th>verb_count</th>\n",
       "      <td>3</td>\n",
       "      <td>3</td>\n",
       "      <td>10</td>\n",
       "      <td>17</td>\n",
       "      <td>9</td>\n",
       "    </tr>\n",
       "    <tr>\n",
       "      <th>adj_count</th>\n",
       "      <td>1</td>\n",
       "      <td>4</td>\n",
       "      <td>5</td>\n",
       "      <td>8</td>\n",
       "      <td>4</td>\n",
       "    </tr>\n",
       "    <tr>\n",
       "      <th>adv_count</th>\n",
       "      <td>1</td>\n",
       "      <td>2</td>\n",
       "      <td>8</td>\n",
       "      <td>7</td>\n",
       "      <td>4</td>\n",
       "    </tr>\n",
       "  </tbody>\n",
       "</table>\n",
       "</div>"
      ],
      "text/plain": [
       "                                                                     0  \\\n",
       "Date                                               2017-04-10 00:00:00   \n",
       "Stars                                                                5   \n",
       "Reviews              Great job, Wyndham Capital! Each person was pr...   \n",
       "BankName                                      Wyndham Capital Mortgage   \n",
       "count_sentence                                                       1   \n",
       "count_word                                                          19   \n",
       "count_unique_word                                                   19   \n",
       "wordcounts           {'Great': 1, 'Wyndham': 1, 'us': 1, 'Each': 1,...   \n",
       "mean_word_len                                                  5.68421   \n",
       "count_letters                                                      126   \n",
       "letter_density/word                                                6.3   \n",
       "count_words_upper                                                    0   \n",
       "count_words_lower                                                   14   \n",
       "count_words_title                                                    5   \n",
       "count_punctuations                                                   4   \n",
       "count_stopwords                                                      5   \n",
       "Spaces                                                               0   \n",
       "numeric                                                              0   \n",
       "alphabets                                                           15   \n",
       "alphanumeric                                                        15   \n",
       "words_ends_with_et                                                   0   \n",
       "words_start_with_no                                                  0   \n",
       "noun_count                                                           8   \n",
       "pronoun_count                                                        3   \n",
       "verb_count                                                           3   \n",
       "adj_count                                                            1   \n",
       "adv_count                                                            1   \n",
       "\n",
       "                                                                     1  \\\n",
       "Date                                               2017-02-10 00:00:00   \n",
       "Stars                                                                5   \n",
       "Reviews              Matthew Richardson is professional and helpful...   \n",
       "BankName                                      Wyndham Capital Mortgage   \n",
       "count_sentence                                                       1   \n",
       "count_word                                                          25   \n",
       "count_unique_word                                                   23   \n",
       "wordcounts           {'us': 1, 'Matthew': 1, 'much': 1, 'very': 1, ...   \n",
       "mean_word_len                                                      5.4   \n",
       "count_letters                                                      159   \n",
       "letter_density/word                                            6.11538   \n",
       "count_words_upper                                                    0   \n",
       "count_words_lower                                                   20   \n",
       "count_words_title                                                    5   \n",
       "count_punctuations                                                   4   \n",
       "count_stopwords                                                     10   \n",
       "Spaces                                                               0   \n",
       "numeric                                                              0   \n",
       "alphabets                                                           21   \n",
       "alphanumeric                                                        21   \n",
       "words_ends_with_et                                                   0   \n",
       "words_start_with_no                                                  0   \n",
       "noun_count                                                           7   \n",
       "pronoun_count                                                        4   \n",
       "verb_count                                                           3   \n",
       "adj_count                                                            4   \n",
       "adv_count                                                            2   \n",
       "\n",
       "                                                                     2  \\\n",
       "Date                                               2017-08-21 00:00:00   \n",
       "Stars                                                                5   \n",
       "Reviews              We had a past experience with Wyndham Mortgage...   \n",
       "BankName                                      Wyndham Capital Mortgage   \n",
       "count_sentence                                                       1   \n",
       "count_word                                                          79   \n",
       "count_unique_word                                                   64   \n",
       "wordcounts           {'right': 1, 'they': 1, 'money.': 1, 'Wyndham'...   \n",
       "mean_word_len                                                  4.86076   \n",
       "count_letters                                                      462   \n",
       "letter_density/word                                              5.775   \n",
       "count_words_upper                                                    0   \n",
       "count_words_lower                                                   64   \n",
       "count_words_title                                                   14   \n",
       "count_punctuations                                                   8   \n",
       "count_stopwords                                                     31   \n",
       "Spaces                                                               0   \n",
       "numeric                                                              0   \n",
       "alphabets                                                           73   \n",
       "alphanumeric                                                        73   \n",
       "words_ends_with_et                                                   0   \n",
       "words_start_with_no                                                  1   \n",
       "noun_count                                                          24   \n",
       "pronoun_count                                                        8   \n",
       "verb_count                                                          10   \n",
       "adj_count                                                            5   \n",
       "adv_count                                                            8   \n",
       "\n",
       "                                                                     3  \\\n",
       "Date                                               2017-12-17 00:00:00   \n",
       "Stars                                                                5   \n",
       "Reviews              We have been dealing with Brad Thomka from the...   \n",
       "BankName                                      Wyndham Capital Mortgage   \n",
       "count_sentence                                                       1   \n",
       "count_word                                                         108   \n",
       "count_unique_word                                                   78   \n",
       "wordcounts           {'right': 1, 'out': 1, 'of': 1, 'previous': 1,...   \n",
       "mean_word_len                                                  4.61111   \n",
       "count_letters                                                      605   \n",
       "letter_density/word                                            5.55046   \n",
       "count_words_upper                                                    0   \n",
       "count_words_lower                                                   88   \n",
       "count_words_title                                                   18   \n",
       "count_punctuations                                                   9   \n",
       "count_stopwords                                                     49   \n",
       "Spaces                                                               0   \n",
       "numeric                                                              0   \n",
       "alphabets                                                          101   \n",
       "alphanumeric                                                       101   \n",
       "words_ends_with_et                                                   0   \n",
       "words_start_with_no                                                  1   \n",
       "noun_count                                                          30   \n",
       "pronoun_count                                                       11   \n",
       "verb_count                                                          17   \n",
       "adj_count                                                            8   \n",
       "adv_count                                                            7   \n",
       "\n",
       "                                                                     4  \n",
       "Date                                               2016-05-27 00:00:00  \n",
       "Stars                                                                5  \n",
       "Reviews              I can't express how grateful I am for the supp...  \n",
       "BankName                                      Wyndham Capital Mortgage  \n",
       "count_sentence                                                       1  \n",
       "count_word                                                          59  \n",
       "count_unique_word                                                   47  \n",
       "wordcounts           {'how': 1, 'Wyndham': 1, 'none.': 1, 'thorough...  \n",
       "mean_word_len                                                  4.79661  \n",
       "count_letters                                                      341  \n",
       "letter_density/word                                            5.68333  \n",
       "count_words_upper                                                    3  \n",
       "count_words_lower                                                   50  \n",
       "count_words_title                                                    9  \n",
       "count_punctuations                                                   6  \n",
       "count_stopwords                                                     30  \n",
       "Spaces                                                               0  \n",
       "numeric                                                              0  \n",
       "alphabets                                                           53  \n",
       "alphanumeric                                                        53  \n",
       "words_ends_with_et                                                   0  \n",
       "words_start_with_no                                                  1  \n",
       "noun_count                                                          16  \n",
       "pronoun_count                                                        8  \n",
       "verb_count                                                           9  \n",
       "adj_count                                                            4  \n",
       "adv_count                                                            4  "
      ]
     },
     "execution_count": 27,
     "metadata": {},
     "output_type": "execute_result"
    }
   ],
   "source": [
    "review.head().T"
   ]
  },
  {
   "cell_type": "markdown",
   "metadata": {},
   "source": [
    "# Classification of stars on basis of reviews"
   ]
  },
  {
   "cell_type": "code",
   "execution_count": 28,
   "metadata": {},
   "outputs": [
    {
     "data": {
      "text/plain": [
       "5    410\n",
       "1     95\n",
       "Name: Stars, dtype: int64"
      ]
     },
     "execution_count": 28,
     "metadata": {},
     "output_type": "execute_result"
    }
   ],
   "source": [
    "review.Stars.value_counts()"
   ]
  },
  {
   "cell_type": "code",
   "execution_count": 29,
   "metadata": {},
   "outputs": [
    {
     "name": "stdout",
     "output_type": "stream",
     "text": [
      "total no of reviews: 505\n",
      "\n",
      "reviews with 5-star:  410\n",
      "reviews with 1-star:  95\n"
     ]
    }
   ],
   "source": [
    "print(\"total no of reviews:\",review.shape[0])\n",
    "print(\"\\nreviews with 5-star: \",review.Stars.value_counts()[5])\n",
    "print(\"reviews with 1-star: \",review.Stars.value_counts()[1])"
   ]
  },
  {
   "cell_type": "code",
   "execution_count": 30,
   "metadata": {},
   "outputs": [
    {
     "data": {
      "text/plain": [
       "Text(0.5, 0, 'count of reviews')"
      ]
     },
     "execution_count": 30,
     "metadata": {},
     "output_type": "execute_result"
    },
    {
     "data": {
      "image/png": "[encoded data removed]",
      "text/plain": [
       "<Figure size 576x144 with 1 Axes>"
      ]
     },
     "metadata": {},
     "output_type": "display_data"
    }
   ],
   "source": [
    "#Graphical Representation\n",
    "plt.figure(figsize=(8,2))\n",
    "review.groupby('Stars')['Reviews'].count().plot('barh',color='m')\n",
    "plt.xlabel('count of reviews', fontsize=15)"
   ]
  },
  {
   "cell_type": "markdown",
   "metadata": {},
   "source": [
    "<div style=\"background-color:#9ACD32;text-align:center;font-size: 300%\"><strong><br>\n",
    "PART- III:<br><br>Sentiment Analysis\n",
    "<br><br></strong></div> "
   ]
  },
  {
   "cell_type": "markdown",
   "metadata": {},
   "source": [
    "# Sentiment analysis using Textblob module "
   ]
  },
  {
   "cell_type": "code",
   "execution_count": 31,
   "metadata": {},
   "outputs": [],
   "source": [
    "review['sentiment']= review[\"Reviews\"].apply(lambda x: TextBlob(x).sentiment.polarity)"
   ]
  },
  {
   "cell_type": "code",
   "execution_count": 32,
   "metadata": {},
   "outputs": [],
   "source": [
    "def senti_check(words):\n",
    "    val=TextBlob(words).sentiment.polarity\n",
    "    if val>0:\n",
    "        return 'pos'\n",
    "    elif val<0:\n",
    "        return 'neg'\n",
    "    else:\n",
    "        return 'neutral'\n",
    "\n",
    "review['senti_type']=review[\"Reviews\"].apply(lambda x:senti_check(x))"
   ]
  },
  {
   "cell_type": "code",
   "execution_count": 33,
   "metadata": {},
   "outputs": [
    {
     "data": {
      "text/html": [
       "<div>\n",
       "<style scoped>\n",
       "    .dataframe tbody tr th:only-of-type {\n",
       "        vertical-align: middle;\n",
       "    }\n",
       "\n",
       "    .dataframe tbody tr th {\n",
       "        vertical-align: top;\n",
       "    }\n",
       "\n",
       "    .dataframe thead th {\n",
       "        text-align: right;\n",
       "    }\n",
       "</style>\n",
       "<table border=\"1\" class=\"dataframe\">\n",
       "  <thead>\n",
       "    <tr style=\"text-align: right;\">\n",
       "      <th></th>\n",
       "      <th>Reviews</th>\n",
       "      <th>sentiment</th>\n",
       "      <th>senti_type</th>\n",
       "    </tr>\n",
       "  </thead>\n",
       "  <tbody>\n",
       "    <tr>\n",
       "      <th>0</th>\n",
       "      <td>Great job, Wyndham Capital! Each person was pr...</td>\n",
       "      <td>0.533333</td>\n",
       "      <td>pos</td>\n",
       "    </tr>\n",
       "    <tr>\n",
       "      <th>1</th>\n",
       "      <td>Matthew Richardson is professional and helpful...</td>\n",
       "      <td>0.453333</td>\n",
       "      <td>pos</td>\n",
       "    </tr>\n",
       "    <tr>\n",
       "      <th>2</th>\n",
       "      <td>We had a past experience with Wyndham Mortgage...</td>\n",
       "      <td>-0.033231</td>\n",
       "      <td>neg</td>\n",
       "    </tr>\n",
       "    <tr>\n",
       "      <th>3</th>\n",
       "      <td>We have been dealing with Brad Thomka from the...</td>\n",
       "      <td>0.093740</td>\n",
       "      <td>pos</td>\n",
       "    </tr>\n",
       "    <tr>\n",
       "      <th>4</th>\n",
       "      <td>I can't express how grateful I am for the supp...</td>\n",
       "      <td>0.125000</td>\n",
       "      <td>pos</td>\n",
       "    </tr>\n",
       "  </tbody>\n",
       "</table>\n",
       "</div>"
      ],
      "text/plain": [
       "                                             Reviews  sentiment senti_type\n",
       "0  Great job, Wyndham Capital! Each person was pr...   0.533333        pos\n",
       "1  Matthew Richardson is professional and helpful...   0.453333        pos\n",
       "2  We had a past experience with Wyndham Mortgage...  -0.033231        neg\n",
       "3  We have been dealing with Brad Thomka from the...   0.093740        pos\n",
       "4  I can't express how grateful I am for the supp...   0.125000        pos"
      ]
     },
     "execution_count": 33,
     "metadata": {},
     "output_type": "execute_result"
    }
   ],
   "source": [
    "review[[\"Reviews\",'sentiment','senti_type']].head()"
   ]
  },
  {
   "cell_type": "code",
   "execution_count": 34,
   "metadata": {},
   "outputs": [],
   "source": [
    "total=review.shape[0]\n",
    "\n",
    "# Positive Reviews Percentage\n",
    "pos_reviews=(review['sentiment']>0).sum()\n",
    "p1=(pos_reviews/total)*100\n",
    "\n",
    "# Neagtive Reviews Percentage\n",
    "neg_reviews=(review['sentiment']<0).sum()\n",
    "p2=(neg_reviews/total)*100\n",
    "\n",
    "# Neutral Reviews Percentage\n",
    "neutral_reviews=(review['sentiment']==0).sum()\n",
    "p3=(neutral_reviews/total)*100"
   ]
  },
  {
   "cell_type": "code",
   "execution_count": 35,
   "metadata": {},
   "outputs": [
    {
     "data": {
      "text/html": [
       "<div>\n",
       "<style scoped>\n",
       "    .dataframe tbody tr th:only-of-type {\n",
       "        vertical-align: middle;\n",
       "    }\n",
       "\n",
       "    .dataframe tbody tr th {\n",
       "        vertical-align: top;\n",
       "    }\n",
       "\n",
       "    .dataframe thead th {\n",
       "        text-align: right;\n",
       "    }\n",
       "</style>\n",
       "<table border=\"1\" class=\"dataframe\">\n",
       "  <thead>\n",
       "    <tr style=\"text-align: right;\">\n",
       "      <th></th>\n",
       "      <th>review_count</th>\n",
       "      <th>percentage_out_of_total</th>\n",
       "    </tr>\n",
       "    <tr>\n",
       "      <th>review_type</th>\n",
       "      <th></th>\n",
       "      <th></th>\n",
       "    </tr>\n",
       "  </thead>\n",
       "  <tbody>\n",
       "    <tr>\n",
       "      <th>positive</th>\n",
       "      <td>466</td>\n",
       "      <td>92.277228</td>\n",
       "    </tr>\n",
       "    <tr>\n",
       "      <th>negative</th>\n",
       "      <td>35</td>\n",
       "      <td>6.930693</td>\n",
       "    </tr>\n",
       "    <tr>\n",
       "      <th>neutral</th>\n",
       "      <td>4</td>\n",
       "      <td>0.792079</td>\n",
       "    </tr>\n",
       "  </tbody>\n",
       "</table>\n",
       "</div>"
      ],
      "text/plain": [
       "             review_count  percentage_out_of_total\n",
       "review_type                                       \n",
       "positive              466                92.277228\n",
       "negative               35                 6.930693\n",
       "neutral                 4                 0.792079"
      ]
     },
     "execution_count": 35,
     "metadata": {},
     "output_type": "execute_result"
    }
   ],
   "source": [
    "rev_df=pd.DataFrame({\"review_type\":['positive','negative','neutral'],\n",
    "                     \"review_count\":[pos_reviews,neg_reviews,neutral_reviews],\n",
    "                     \"percentage_out_of_total\":[p1,p2,p3]}).set_index('review_type')\n",
    "rev_df"
   ]
  },
  {
   "cell_type": "markdown",
   "metadata": {},
   "source": [
    "# Classification of reviews based on Sentiment analysis"
   ]
  },
  {
   "cell_type": "code",
   "execution_count": 36,
   "metadata": {},
   "outputs": [
    {
     "data": {
      "text/plain": [
       "Text(0.5, 0, 'percentage of each review type out of total reviews')"
      ]
     },
     "execution_count": 36,
     "metadata": {},
     "output_type": "execute_result"
    },
    {
     "data": {
      "image/png": "[encoded data removed]",
      "text/plain": [
       "<Figure size 720x216 with 1 Axes>"
      ]
     },
     "metadata": {},
     "output_type": "display_data"
    }
   ],
   "source": [
    "plt.figure(figsize=(10,3))\n",
    "rev_df['percentage_out_of_total'].plot(kind='barh',color='g')\n",
    "plt.xlabel(\"percentage of each review type out of total reviews\",fontsize=15)"
   ]
  },
  {
   "cell_type": "code",
   "execution_count": 37,
   "metadata": {},
   "outputs": [
    {
     "data": {
      "text/plain": [
       "Text(0.5, 0, 'count of each review type out of total reviews')"
      ]
     },
     "execution_count": 37,
     "metadata": {},
     "output_type": "execute_result"
    },
    {
     "data": {
      "image/png": "[encoded data removed]",
      "text/plain": [
       "<Figure size 720x216 with 1 Axes>"
      ]
     },
     "metadata": {},
     "output_type": "display_data"
    }
   ],
   "source": [
    "plt.figure(figsize=(10,3))\n",
    "rev_df[\"review_count\"].plot(kind='barh',color='r')\n",
    "plt.xlabel(\"count of each review type out of total reviews\",fontsize=15)"
   ]
  },
  {
   "cell_type": "code",
   "execution_count": 40,
   "metadata": {},
   "outputs": [],
   "source": [
    "review.to_excel(\"bank_rev_after_EDA.xlsx\")"
   ]
  },
  {
   "cell_type": "markdown",
   "metadata": {},
   "source": [
    "<div style=\"background-color:#9ACD32;text-align:center;font-size: 300%\"><strong><br>\n",
    "PART- IV:<br><br>Cleaning and Pre-processing the data\n",
    "<br><br></strong></div>"
   ]
  },
  {
   "cell_type": "code",
   "execution_count": 44,
   "metadata": {},
   "outputs": [],
   "source": [
    "import os\n",
    "os.chdir(\"C:\\\\Users\\\\user\\\\Desktop\\\\Alab_Python\\\\Final Projects in Python\\\\5. Bank Reviews-Complaints Analysis\")\n",
    "\n",
    "rev=pd.read_excel(\"bank_rev_after_EDA.xlsx\")\n",
    "#rev.columns"
   ]
  },
  {
   "cell_type": "code",
   "execution_count": 45,
   "metadata": {},
   "outputs": [],
   "source": [
    "#rev.head()"
   ]
  },
  {
   "cell_type": "markdown",
   "metadata": {},
   "source": [
    "### Udf for data preprocessing"
   ]
  },
  {
   "cell_type": "code",
   "execution_count": 56,
   "metadata": {},
   "outputs": [],
   "source": [
    "#stop_words= set(nltk.corpus.stopwords.words('english'))\n",
    "stop_words = set(stopwords.words(\"english\"))\n",
    "import string\n",
    "\n",
    "def corpus_processing(text):\n",
    "    text = text.lower()\n",
    "    text = text.strip()\n",
    "    text = re.sub(r' +', ' ', text)\n",
    "    text = re.sub(r\"[-()\\\"#/@;:{}`+=~|.!?,'0-9]\", \"\", text) # removing punctuations\n",
    "    text=\" \".join(ele for ele in text.split() if ele not in stop_words) # removing stopwords\n",
    "    return(text)"
   ]
  },
  {
   "cell_type": "code",
   "execution_count": 58,
   "metadata": {},
   "outputs": [],
   "source": [
    "rev['corpus']=rev['Reviews'].apply(lambda x: corpus_processing(x))"
   ]
  },
  {
   "cell_type": "code",
   "execution_count": 59,
   "metadata": {},
   "outputs": [
    {
     "data": {
      "text/plain": [
       "Index(['Unnamed: 0', 'Date', 'Stars', 'Reviews', 'BankName', 'count_sentence',\n",
       "       'count_word', 'count_unique_word', 'wordcounts', 'mean_word_len',\n",
       "       'count_letters', 'letter_density/word', 'count_words_upper',\n",
       "       'count_words_lower', 'count_words_title', 'count_punctuations',\n",
       "       'count_stopwords', 'Spaces', 'numeric', 'alphabets', 'alphanumeric',\n",
       "       'words_ends_with_et', 'words_start_with_no', 'noun_count',\n",
       "       'pronoun_count', 'verb_count', 'adj_count', 'adv_count', 'sentiment',\n",
       "       'senti_type', 'corpus'],\n",
       "      dtype='object')"
      ]
     },
     "execution_count": 59,
     "metadata": {},
     "output_type": "execute_result"
    }
   ],
   "source": [
    "rev.columns"
   ]
  },
  {
   "cell_type": "markdown",
   "metadata": {},
   "source": [
    "# Bank data - Word clouds"
   ]
  },
  {
   "cell_type": "code",
   "execution_count": 61,
   "metadata": {},
   "outputs": [],
   "source": [
    "frequency_words_wo_stop= {}  \n",
    "\n",
    "for data in rev['Reviews']:\n",
    "    tokens = nltk.wordpunct_tokenize(data.lower())\n",
    "    for token in tokens:\n",
    "        if token.lower() not in stop_words:\n",
    "            if token in frequency_words_wo_stop:\n",
    "                count = frequency_words_wo_stop[token]\n",
    "                count = count + 1\n",
    "                frequency_words_wo_stop[token] = count\n",
    "            else:\n",
    "                frequency_words_wo_stop[token] = 1"
   ]
  },
  {
   "cell_type": "code",
   "execution_count": 62,
   "metadata": {},
   "outputs": [
    {
     "data": {
      "text/html": [
       "<div>\n",
       "<style scoped>\n",
       "    .dataframe tbody tr th:only-of-type {\n",
       "        vertical-align: middle;\n",
       "    }\n",
       "\n",
       "    .dataframe tbody tr th {\n",
       "        vertical-align: top;\n",
       "    }\n",
       "\n",
       "    .dataframe thead th {\n",
       "        text-align: right;\n",
       "    }\n",
       "</style>\n",
       "<table border=\"1\" class=\"dataframe\">\n",
       "  <thead>\n",
       "    <tr style=\"text-align: right;\">\n",
       "      <th></th>\n",
       "      <th>token</th>\n",
       "      <th>frequency</th>\n",
       "    </tr>\n",
       "  </thead>\n",
       "  <tbody>\n",
       "    <tr>\n",
       "      <th>0</th>\n",
       "      <td>.</td>\n",
       "      <td>1976</td>\n",
       "    </tr>\n",
       "    <tr>\n",
       "      <th>1</th>\n",
       "      <td>,</td>\n",
       "      <td>1135</td>\n",
       "    </tr>\n",
       "    <tr>\n",
       "      <th>2</th>\n",
       "      <td>loan</td>\n",
       "      <td>313</td>\n",
       "    </tr>\n",
       "    <tr>\n",
       "      <th>3</th>\n",
       "      <td>'</td>\n",
       "      <td>270</td>\n",
       "    </tr>\n",
       "    <tr>\n",
       "      <th>4</th>\n",
       "      <td>process</td>\n",
       "      <td>253</td>\n",
       "    </tr>\n",
       "  </tbody>\n",
       "</table>\n",
       "</div>"
      ],
      "text/plain": [
       "     token  frequency\n",
       "0        .       1976\n",
       "1        ,       1135\n",
       "2     loan        313\n",
       "3        '        270\n",
       "4  process        253"
      ]
     },
     "execution_count": 62,
     "metadata": {},
     "output_type": "execute_result"
    }
   ],
   "source": [
    "pd.DataFrame(frequency_words_wo_stop.items(), columns=['token', 'frequency'])\\\n",
    "                .sort_values(by='frequency',ascending=False).reset_index(drop=True).head()"
   ]
  },
  {
   "cell_type": "code",
   "execution_count": 63,
   "metadata": {},
   "outputs": [
    {
     "data": {
      "text/plain": [
       "<matplotlib.image.AxesImage at 0x232b6c13940>"
      ]
     },
     "execution_count": 63,
     "metadata": {},
     "output_type": "execute_result"
    },
    {
     "data": {
      "image/png": "[encoded data removed]",
      "text/plain": [
       "<Figure size 8640x6480 with 1 Axes>"
      ]
     },
     "metadata": {},
     "output_type": "display_data"
    }
   ],
   "source": [
    "from wordcloud import WordCloud ,STOPWORDS\n",
    "\n",
    "word_source=' '.join(rev['corpus'])\n",
    "\n",
    "bankreviews_wordcloud = WordCloud(background_color='white',\n",
    "                                  colormap=\"Oranges_r\",\n",
    "                                  stopwords=[]).generate(word_source)\n",
    "\n",
    "plt.figure(figsize=(120,90))\n",
    "plt.imshow(bankreviews_wordcloud)"
   ]
  },
  {
   "cell_type": "markdown",
   "metadata": {},
   "source": [
    "<div style=\"background-color:#9ACD32;text-align:center;font-size: 300%\"><strong><br>\n",
    "PART- V :\n",
    "<br><br>Building different models with different vectors \n",
    "<br><br></strong></div>"
   ]
  },
  {
   "cell_type": "markdown",
   "metadata": {},
   "source": [
    "# Split the data into train & Test"
   ]
  },
  {
   "cell_type": "code",
   "execution_count": 64,
   "metadata": {},
   "outputs": [
    {
     "data": {
      "text/plain": [
       "((505,), (505,))"
      ]
     },
     "execution_count": 64,
     "metadata": {},
     "output_type": "execute_result"
    }
   ],
   "source": [
    "# define X and y\n",
    "X = rev.Reviews\n",
    "y = rev.Stars\n",
    "X.shape,y.shape"
   ]
  },
  {
   "cell_type": "code",
   "execution_count": 67,
   "metadata": {},
   "outputs": [
    {
     "name": "stdout",
     "output_type": "stream",
     "text": [
      "reviews in training dataset: 378\n",
      "reviews in test dataset: 127\n"
     ]
    }
   ],
   "source": [
    "# split the new DataFrame into training and testing sets\n",
    "X_train, X_test, y_train, y_test = train_test_split(X, y, random_state=1)\n",
    "\n",
    "print(\"reviews in training dataset:\",X_train.shape[0])\n",
    "print(\"reviews in test dataset:\",X_test.shape[0])"
   ]
  },
  {
   "cell_type": "code",
   "execution_count": 73,
   "metadata": {},
   "outputs": [
    {
     "data": {
      "text/plain": [
       "pandas.core.series.Series"
      ]
     },
     "execution_count": 73,
     "metadata": {},
     "output_type": "execute_result"
    }
   ],
   "source": [
    "type(X_train)"
   ]
  },
  {
   "cell_type": "code",
   "execution_count": 36,
   "metadata": {},
   "outputs": [],
   "source": [
    "### data-cleaning\n",
    "#X_train = X_train.apply(lambda x: corpus_processing(x))\n",
    "#X_test = X_test.apply(lambda x: corpus_processing(x))"
   ]
  },
  {
   "cell_type": "markdown",
   "metadata": {},
   "source": [
    "# Vectorization of train & test dataset ( count, TF-Idf) "
   ]
  },
  {
   "cell_type": "markdown",
   "metadata": {},
   "source": [
    "## Training dataset"
   ]
  },
  {
   "cell_type": "code",
   "execution_count": 78,
   "metadata": {},
   "outputs": [],
   "source": [
    "count_vect = CountVectorizer(analyzer='word', \n",
    "                             token_pattern=r'\\w{1,}', \n",
    "                             ngram_range=(1, 3 ),  \n",
    "                             encoding='latin-1' , \n",
    "                             max_df=0.9,min_df=0.001)\n",
    "xtrain_count = count_vect.fit_transform(X_train)"
   ]
  },
  {
   "cell_type": "code",
   "execution_count": 79,
   "metadata": {},
   "outputs": [],
   "source": [
    "tfidf_transformer = TfidfTransformer()\n",
    "X_train_tfidf = tfidf_transformer.fit_transform(xtrain_count)"
   ]
  },
  {
   "cell_type": "markdown",
   "metadata": {},
   "source": [
    "## Test dataset"
   ]
  },
  {
   "cell_type": "code",
   "execution_count": 80,
   "metadata": {},
   "outputs": [],
   "source": [
    "xtest_count = count_vect.transform(X_test)\n",
    "X_test_tfidf = tfidf_transformer.transform(xtest_count)"
   ]
  },
  {
   "cell_type": "code",
   "execution_count": 81,
   "metadata": {},
   "outputs": [
    {
     "name": "stdout",
     "output_type": "stream",
     "text": [
      ">>count vectorization(train,test):\n",
      " (378, 34247) (127, 34247)\n",
      "\n",
      ">>tf-idf(train,test):\n",
      " (378, 34247) (127, 34247)\n"
     ]
    }
   ],
   "source": [
    "print(\">>count vectorization(train,test):\\n\",xtrain_count.shape,xtest_count.shape)\n",
    "print(\"\\n>>tf-idf(train,test):\\n\",X_train_tfidf.toarray().shape,X_test_tfidf.toarray().shape)"
   ]
  },
  {
   "cell_type": "markdown",
   "metadata": {},
   "source": [
    "## Tf-Idf : word ngram "
   ]
  },
  {
   "cell_type": "code",
   "execution_count": 82,
   "metadata": {},
   "outputs": [
    {
     "data": {
      "text/plain": [
       "TfidfVectorizer(max_df=0.9, min_df=0.001, ngram_range=(1, 3),\n",
       "                token_pattern='\\\\w{1,}')"
      ]
     },
     "execution_count": 82,
     "metadata": {},
     "output_type": "execute_result"
    }
   ],
   "source": [
    "tfidf_vect_ngram_words = TfidfVectorizer(analyzer='word',\n",
    "                                   token_pattern='\\w{1,}',\n",
    "                                   ngram_range=(1,3),\n",
    "                                   max_df=0.9,\n",
    "                                   min_df=0.001\n",
    "                                  )\n",
    "tfidf_vect_ngram_words.fit(rev['Reviews'])"
   ]
  },
  {
   "cell_type": "code",
   "execution_count": 83,
   "metadata": {},
   "outputs": [],
   "source": [
    "xtrain_tfidf_ngram_words = tfidf_vect_ngram_words.transform(X_train)\n",
    "xtest_tfidf_ngram_words = tfidf_vect_ngram_words.transform(X_test)"
   ]
  },
  {
   "cell_type": "markdown",
   "metadata": {},
   "source": [
    "## Tf-Idf : characters ngram"
   ]
  },
  {
   "cell_type": "code",
   "execution_count": 84,
   "metadata": {},
   "outputs": [
    {
     "data": {
      "text/plain": [
       "TfidfVectorizer(analyzer='char', max_df=0.9, min_df=0.001, ngram_range=(1, 3),\n",
       "                token_pattern='\\\\w{1,}')"
      ]
     },
     "execution_count": 84,
     "metadata": {},
     "output_type": "execute_result"
    }
   ],
   "source": [
    "tfidf_vect_ngram_chars = TfidfVectorizer(analyzer='char',\n",
    "                                         token_pattern='\\w{1,}', \n",
    "                                         ngram_range=(1,3),\n",
    "                                         max_df=0.9,\n",
    "                                         min_df=0.001\n",
    "                                        )\n",
    "tfidf_vect_ngram_chars.fit(rev['Reviews'])"
   ]
  },
  {
   "cell_type": "code",
   "execution_count": 85,
   "metadata": {},
   "outputs": [],
   "source": [
    "xtrain_tfidf_ngram_chars = tfidf_vect_ngram_chars.transform(X_train)\n",
    "xtest_tfidf_ngram_chars = tfidf_vect_ngram_chars.transform(X_test)"
   ]
  },
  {
   "cell_type": "markdown",
   "metadata": {},
   "source": [
    "### Creating UDF to train the models"
   ]
  },
  {
   "cell_type": "code",
   "execution_count": 90,
   "metadata": {},
   "outputs": [],
   "source": [
    "def train_model(classifier, feature_vector_train, y_train, feature_vector_test, test_y, is_neural_net=False):\n",
    "    classifier.fit(feature_vector_train,y_train) # fits the training dataset on the classifier\n",
    "    predictions = classifier.predict(feature_vector_test) # predicts the labels on validation dataset\n",
    "    \n",
    "    if is_neural_net:\n",
    "        predictions = predictions.argmax(axis=-1)\n",
    "    \n",
    "    return metrics.accuracy_score(predictions, test_y)  #returns the accuracy of the model"
   ]
  },
  {
   "cell_type": "markdown",
   "metadata": {},
   "source": [
    "### Creating a dictinary for differenr accuracy"
   ]
  },
  {
   "cell_type": "code",
   "execution_count": 91,
   "metadata": {},
   "outputs": [],
   "source": [
    "accu_dict={'classifier':[],'count':[],'tf-idf':[],'ngram_words':[],'ngram_chars':[]}\n",
    "#pd.DataFrame(accu_dict)"
   ]
  },
  {
   "cell_type": "markdown",
   "metadata": {},
   "source": [
    "# Naive Bayes"
   ]
  },
  {
   "cell_type": "code",
   "execution_count": 92,
   "metadata": {},
   "outputs": [
    {
     "name": "stdout",
     "output_type": "stream",
     "text": [
      "(378, 34247) (378,)\n",
      "(127, 34247) (127,)\n"
     ]
    }
   ],
   "source": [
    "print(X_train_tfidf.shape,y_train.shape)\n",
    "print(X_test_tfidf.shape,y_test.shape)"
   ]
  },
  {
   "cell_type": "code",
   "execution_count": 93,
   "metadata": {},
   "outputs": [
    {
     "data": {
      "text/plain": [
       "0.968503937007874"
      ]
     },
     "execution_count": 93,
     "metadata": {},
     "output_type": "execute_result"
    }
   ],
   "source": [
    "# naive bayes on word level Count Vectors\n",
    "accuracy_nb_count= train_model(naive_bayes.MultinomialNB(),\n",
    "                         xtrain_count,\n",
    "                         y_train,\n",
    "                         xtest_count,\n",
    "                         y_test)\n",
    "#print(\"Naive Bayes for L1, Count Vectors: \", accuracy_L1)\n",
    "accuracy_nb_count"
   ]
  },
  {
   "cell_type": "code",
   "execution_count": 94,
   "metadata": {},
   "outputs": [
    {
     "data": {
      "text/plain": [
       "0.8188976377952756"
      ]
     },
     "execution_count": 94,
     "metadata": {},
     "output_type": "execute_result"
    }
   ],
   "source": [
    "# Naive Bayes on TF-IDF\n",
    "accuracy_nb_tfidf = train_model(naive_bayes.MultinomialNB(), #classifier\n",
    "                          X_train_tfidf, #feature_vector_train\n",
    "                          y_train, \n",
    "                          X_test_tfidf, #feature_vector_test\n",
    "                          y_test)\n",
    "accuracy_nb_tfidf\n",
    "#print(\"Naive Bayes  for L1, tf-idf Vectors: \", accuracy_nb1)"
   ]
  },
  {
   "cell_type": "code",
   "execution_count": 95,
   "metadata": {},
   "outputs": [
    {
     "data": {
      "text/plain": [
       "0.8031496062992126"
      ]
     },
     "execution_count": 95,
     "metadata": {},
     "output_type": "execute_result"
    }
   ],
   "source": [
    "# Naive Bayes on Word Level Ngram TF IDF Vectors\n",
    "accuracy_nb_ngram_words = train_model(naive_bayes.MultinomialNB(), \n",
    "                          xtrain_tfidf_ngram_words, \n",
    "                          y_train, \n",
    "                          xtest_tfidf_ngram_words, \n",
    "                          y_test\n",
    "                         )\n",
    "#print(\"Naive Bayes  for L1, Word Level N-Gram Vectors: \", accuracy_L1)\n",
    "accuracy_nb_ngram_words"
   ]
  },
  {
   "cell_type": "code",
   "execution_count": 96,
   "metadata": {},
   "outputs": [
    {
     "data": {
      "text/plain": [
       "0.8031496062992126"
      ]
     },
     "execution_count": 96,
     "metadata": {},
     "output_type": "execute_result"
    }
   ],
   "source": [
    "# Naive Bayes on Word Level Ngram TF IDF Vectors\n",
    "accuracy_nb_ngram_chars = train_model(naive_bayes.MultinomialNB(), \n",
    "                          xtrain_tfidf_ngram_chars, \n",
    "                          y_train, \n",
    "                          xtest_tfidf_ngram_chars, \n",
    "                          y_test\n",
    "                         )\n",
    "#print(\"Naive Bayes  for L1, Word Level N-Gram Vectors: \", accuracy_L1)\n",
    "accuracy_nb_ngram_chars"
   ]
  },
  {
   "cell_type": "code",
   "execution_count": 113,
   "metadata": {},
   "outputs": [],
   "source": [
    "## adding elements to accuracy dataframe for naive bayes\n",
    "\n",
    "#accu_dict['classifier'].append('Naive Bayes')\n",
    "#accu_dict['count'].append(accuracy_nb_count)\n",
    "#accu_dict['tf-idf'].append(accuracy_nb_tfidf)\n",
    "#accu_dict['ngram_words'].append(accuracy_nb_ngram_words)\n",
    "#accu_dict['ngram_chars'].append(accuracy_nb_ngram_chars)"
   ]
  },
  {
   "cell_type": "markdown",
   "metadata": {},
   "source": [
    "# Logistic Regression"
   ]
  },
  {
   "cell_type": "code",
   "execution_count": 100,
   "metadata": {},
   "outputs": [
    {
     "name": "stdout",
     "output_type": "stream",
     "text": [
      "accuracy of Logistic Regression for L1, Count Vectors:  0.8110236220472441\n",
      "accuracy of Logistic Regression for L1, WordLevel TF-IDF:  0.952755905511811\n"
     ]
    }
   ],
   "source": [
    "# Logistic Regression on Count Vectors and TF-IDF\n",
    "accuracy_LR_count = train_model(LogisticRegression(), X_train_tfidf, y_train, X_test_tfidf, y_test)\n",
    "print(\"accuracy of Logistic Regression for L1, Count Vectors: \", accuracy_LR_count)\n",
    "\n",
    "# Logistic Regression on Word Level TF IDF Vectors\n",
    "accuracy_LR_tfidf = train_model(LogisticRegression(), xtrain_count, y_train, xtest_count, y_test)\n",
    "print(\"accuracy of Logistic Regression for L1, WordLevel TF-IDF: \",accuracy_LR_tfidf)"
   ]
  },
  {
   "cell_type": "code",
   "execution_count": 101,
   "metadata": {},
   "outputs": [
    {
     "name": "stdout",
     "output_type": "stream",
     "text": [
      "accuracy of Logistic Regression for L1, N-Gram Vectors:  0.8110236220472441\n",
      "accuracy of Logistic Regression for L1, CharLevel Vectors:  0.8503937007874016\n"
     ]
    }
   ],
   "source": [
    "# Logistic Regression on Ngram Level TF IDF Vectors\n",
    "accuracy_LR_ngram_words = train_model(LogisticRegression(), xtrain_tfidf_ngram_words, y_train, xtest_tfidf_ngram_words, y_test)\n",
    "print(\"accuracy of Logistic Regression for L1, N-Gram Vectors: \",accuracy_LR_ngram_words)\n",
    "\n",
    "# Logistic Regression on Character Level TF IDF Vectors\n",
    "accuracy_LR_ngram_chars = train_model(LogisticRegression(), xtrain_tfidf_ngram_chars, y_train, xtest_tfidf_ngram_chars, y_test)\n",
    "print(\"accuracy of Logistic Regression for L1, CharLevel Vectors: \",accuracy_LR_ngram_chars)"
   ]
  },
  {
   "cell_type": "code",
   "execution_count": 114,
   "metadata": {},
   "outputs": [],
   "source": [
    "## adding elements to accuracy dataframe for Logistic Regression\n",
    "\n",
    "#accu_dict['classifier'].append('Logistic Regression')\n",
    "#accu_dict['count'].append(accuracy_LR_count)\n",
    "#accu_dict['tf-idf'].append(accuracy_LR_tfidf)\n",
    "#accu_dict['ngram_words'].append(accuracy_LR_ngram_words)\n",
    "#accu_dict['ngram_chars'].append(accuracy_LR_ngram_chars)"
   ]
  },
  {
   "cell_type": "markdown",
   "metadata": {},
   "source": [
    "# Linear SVC (Support Vector Classifier)"
   ]
  },
  {
   "cell_type": "code",
   "execution_count": 102,
   "metadata": {},
   "outputs": [
    {
     "name": "stdout",
     "output_type": "stream",
     "text": [
      "SVC  for L1, Count Vectors:  0.9606299212598425\n",
      "SVC  for L1, WordLevel TF-IDF:  0.9606299212598425\n"
     ]
    }
   ],
   "source": [
    "# Linear SVC on Count Vectors and TF-IDF\n",
    "accuracy_svc_count = train_model(svm.LinearSVC(), X_train_tfidf, y_train, X_test_tfidf, y_test)\n",
    "print(\"SVC  for L1, Count Vectors: \", accuracy_svc_count )\n",
    "\n",
    "# Linear SVC on Word Level TF IDF Vectors\n",
    "accuracy_svc_tfidf = train_model(svm.LinearSVC(), xtrain_count, y_train, xtest_count, y_test)\n",
    "print(\"SVC  for L1, WordLevel TF-IDF: \", accuracy_svc_tfidf)"
   ]
  },
  {
   "cell_type": "code",
   "execution_count": 103,
   "metadata": {},
   "outputs": [
    {
     "name": "stdout",
     "output_type": "stream",
     "text": [
      "SVC  for L1, N-Gram Vectors:  0.889763779527559\n",
      "SVC for L1, CharLevel Vectors:  0.937007874015748\n"
     ]
    }
   ],
   "source": [
    "# Linear SVC on Ngram Level TF IDF Vectors\n",
    "accuracy_svc_ngram_words = train_model(svm.LinearSVC(), xtrain_tfidf_ngram_words, y_train, xtest_tfidf_ngram_words, y_test)\n",
    "print(\"SVC  for L1, N-Gram Vectors: \", accuracy_svc_ngram_words)\n",
    "\n",
    "# Linear SVC on Character Level TF IDF Vectors\n",
    "accuracy_svc_ngram_chars = train_model(svm.LinearSVC(), xtrain_tfidf_ngram_chars, y_train, xtest_tfidf_ngram_chars, y_test)\n",
    "print(\"SVC for L1, CharLevel Vectors: \", accuracy_svc_ngram_chars)"
   ]
  },
  {
   "cell_type": "code",
   "execution_count": 115,
   "metadata": {},
   "outputs": [],
   "source": [
    "## adding elements to accuracy dataframe for Support Vector Classifier\n",
    "\n",
    "#accu_dict['classifier'].append('Support Vector Classifier')\n",
    "#accu_dict['count'].append(accuracy_svc_count)\n",
    "#accu_dict['tf-idf'].append(accuracy_svc_tfidf)\n",
    "#accu_dict['ngram_words'].append(accuracy_svc_ngram_words)\n",
    "#accu_dict['ngram_chars'].append(accuracy_svc_ngram_chars)"
   ]
  },
  {
   "cell_type": "markdown",
   "metadata": {},
   "source": [
    "# Random Forest"
   ]
  },
  {
   "cell_type": "code",
   "execution_count": 107,
   "metadata": {},
   "outputs": [
    {
     "name": "stdout",
     "output_type": "stream",
     "text": [
      "LR  for L1, Count Vectors:  0.8818897637795275\n",
      "LR  for L1, WordLevel TF-IDF:  0.8818897637795275\n"
     ]
    }
   ],
   "source": [
    "# Random Forest on Count Vectors and TF-IDF\n",
    "accuracy_rf_count = train_model(RandomForestClassifier(), X_train_tfidf, y_train, X_test_tfidf, y_test)\n",
    "print(\"LR  for L1, Count Vectors: \", accuracy_rf_count)\n",
    "\n",
    "# Random Forest on Word Level TF IDF Vectors\n",
    "accuracy_rf_tfidf = train_model(RandomForestClassifier(), xtrain_count, y_train, xtest_count, y_test)\n",
    "print(\"LR  for L1, WordLevel TF-IDF: \", accuracy_rf_tfidf)"
   ]
  },
  {
   "cell_type": "code",
   "execution_count": 108,
   "metadata": {},
   "outputs": [
    {
     "name": "stdout",
     "output_type": "stream",
     "text": [
      "LR  for L1, N-Gram Vectors:  0.8740157480314961\n",
      "LR for L1, CharLevel Vectors:  0.8818897637795275\n"
     ]
    }
   ],
   "source": [
    "# Random Forest on Ngram Level TF IDF Vectors\n",
    "accuracy_rf_ngram_words = train_model(RandomForestClassifier(), xtrain_tfidf_ngram_words, y_train, xtest_tfidf_ngram_words, y_test)\n",
    "print(\"LR  for L1, N-Gram Vectors: \", accuracy_rf_ngram_words)\n",
    "\n",
    "# Random Forest on Character Level TF IDF Vectors\n",
    "accuracy_rf_ngram_chars = train_model(RandomForestClassifier(), xtrain_tfidf_ngram_chars, y_train, xtest_tfidf_ngram_chars, y_test)\n",
    "print(\"LR for L1, CharLevel Vectors: \", accuracy_rf_ngram_chars)"
   ]
  },
  {
   "cell_type": "code",
   "execution_count": 116,
   "metadata": {},
   "outputs": [],
   "source": [
    "## adding elements to accuracy dataframe for Random Forest\n",
    "\n",
    "#accu_dict['classifier'].append('Random Forest')\n",
    "#accu_dict['count'].append(accuracy_rf_count)\n",
    "#accu_dict['tf-idf'].append(accuracy_rf_tfidf)\n",
    "#accu_dict['ngram_words'].append(accuracy_rf_ngram_words)\n",
    "#accu_dict['ngram_chars'].append(accuracy_rf_ngram_chars)"
   ]
  },
  {
   "cell_type": "markdown",
   "metadata": {},
   "source": [
    "## ANN"
   ]
  },
  {
   "cell_type": "code",
   "execution_count": 110,
   "metadata": {},
   "outputs": [
    {
     "name": "stdout",
     "output_type": "stream",
     "text": [
      "ANN for L1, Count Vectors:  0.889763779527559\n",
      "ANN for L1, WordLevel TF-IDF:  0.8818897637795275\n"
     ]
    }
   ],
   "source": [
    "# ANN on Count Vectors and TF-IDF\n",
    "accuracy_ann1_tfidf = train_model(MLPClassifier(), X_train_tfidf, y_train, X_test_tfidf, y_test)\n",
    "print(\"ANN for L1, Count Vectors: \", accuracy_ann1_tfidf)\n",
    "\n",
    "# ANN on Word Level TF IDF Vectors\n",
    "accuracy_ann1_count = train_model(MLPClassifier(), xtrain_count, y_train, xtest_count, y_test)\n",
    "print(\"ANN for L1, WordLevel TF-IDF: \", accuracy_ann1_count)"
   ]
  },
  {
   "cell_type": "code",
   "execution_count": 111,
   "metadata": {},
   "outputs": [
    {
     "name": "stdout",
     "output_type": "stream",
     "text": [
      "ANN for L1, N-Gram Vectors:  0.889763779527559\n",
      "ANN for L1, CharLevel Vectors:  0.968503937007874\n"
     ]
    }
   ],
   "source": [
    "# ANN on Ngram Level TF IDF Vectors\n",
    "accuracy_ann1_ngram_words = train_model(MLPClassifier(), xtrain_tfidf_ngram_words, y_train, xtest_tfidf_ngram_words, y_test)\n",
    "print(\"ANN for L1, N-Gram Vectors: \", accuracy_ann1_ngram_words)\n",
    "# ANN on Character Level TF IDF Vectors\n",
    "accuracy_ann1_ngram_chars = train_model(MLPClassifier(), xtrain_tfidf_ngram_chars, y_train, xtest_tfidf_ngram_chars, y_test)\n",
    "print(\"ANN for L1, CharLevel Vectors: \", accuracy_ann1_ngram_chars)"
   ]
  },
  {
   "cell_type": "code",
   "execution_count": 117,
   "metadata": {},
   "outputs": [],
   "source": [
    "## adding elements to accuracy dataframe for ANN\n",
    "\n",
    "#accu_dict['classifier'].append('ANN')\n",
    "#accu_dict['count'].append(accuracy_ann1_count)\n",
    "#accu_dict['tf-idf'].append(accuracy_ann1_tfidf)\n",
    "#accu_dict['ngram_words'].append(accuracy_ann1_ngram_words)\n",
    "#accu_dict['ngram_chars'].append(accuracy_ann1_ngram_chars)"
   ]
  },
  {
   "cell_type": "markdown",
   "metadata": {},
   "source": [
    "## ANN + logistic"
   ]
  },
  {
   "cell_type": "code",
   "execution_count": 112,
   "metadata": {},
   "outputs": [
    {
     "name": "stdout",
     "output_type": "stream",
     "text": [
      "ANN+LR  for L1, Count Vectors:  0.8976377952755905\n",
      "ANN+LR  for L1, WordLevel TF-IDF:  0.8818897637795275\n",
      "ANN+LR  for L1, N-Gram Vectors:  0.8740157480314961\n",
      "ANN+LR for L1, CharLevel Vectors:  0.968503937007874\n"
     ]
    }
   ],
   "source": [
    "# ANN + logistic on Count Vectors and TF-IDF\n",
    "accuracy_ann2_count = train_model(MLPClassifier(activation='logistic'), X_train_tfidf, y_train, X_test_tfidf, y_test)\n",
    "print(\"ANN+LR  for L1, Count Vectors: \", accuracy_ann2_count)\n",
    "# ANN + logistic on Word Level TF IDF Vectors\n",
    "accuracy_ann2_tfidf = train_model(MLPClassifier(activation='logistic'), xtrain_count, y_train, xtest_count, y_test)\n",
    "print(\"ANN+LR  for L1, WordLevel TF-IDF: \", accuracy_ann2_tfidf)\n",
    "\n",
    "\n",
    "# ANN + logistic on Ngram Level TF IDF Vectors\n",
    "accuracy_ann2_ngram_words =train_model(MLPClassifier(activation='logistic'), xtrain_tfidf_ngram_words, y_train, xtest_tfidf_ngram_words, y_test)\n",
    "print(\"ANN+LR  for L1, N-Gram Vectors: \", accuracy_ann2_ngram_words)\n",
    "# ANN + logistic on Character Level TF IDF Vectors\n",
    "accuracy_ann2_ngram_chars = train_model(MLPClassifier(activation='logistic'), xtrain_tfidf_ngram_chars, y_train, xtest_tfidf_ngram_chars, y_test)\n",
    "print(\"ANN+LR for L1, CharLevel Vectors: \", accuracy_ann2_ngram_chars)"
   ]
  },
  {
   "cell_type": "code",
   "execution_count": 118,
   "metadata": {},
   "outputs": [],
   "source": [
    "## adding elements to accuracy dataframe for ANN\n",
    "\n",
    "#accu_dict['classifier'].append('ANN+Logistic Regression')\n",
    "#accu_dict['count'].append(accuracy_ann2_count)\n",
    "#accu_dict['tf-idf'].append(accuracy_ann2_tfidf)\n",
    "#accu_dict['ngram_words'].append(accuracy_ann2_ngram_words)\n",
    "#accu_dict['ngram_chars'].append(accuracy_ann2_ngram_chars)"
   ]
  },
  {
   "cell_type": "code",
   "execution_count": 121,
   "metadata": {},
   "outputs": [
    {
     "name": "stdout",
     "output_type": "stream",
     "text": [
      "--------------------------------------------------------------------------------\n",
      ">> MODEL acuracy for different Classifier-Vectorizer Combinations\n",
      "--------------------------------------------------------------------------------\n"
     ]
    },
    {
     "data": {
      "text/html": [
       "<div>\n",
       "<style scoped>\n",
       "    .dataframe tbody tr th:only-of-type {\n",
       "        vertical-align: middle;\n",
       "    }\n",
       "\n",
       "    .dataframe tbody tr th {\n",
       "        vertical-align: top;\n",
       "    }\n",
       "\n",
       "    .dataframe thead th {\n",
       "        text-align: right;\n",
       "    }\n",
       "</style>\n",
       "<table border=\"1\" class=\"dataframe\">\n",
       "  <thead>\n",
       "    <tr style=\"text-align: right;\">\n",
       "      <th></th>\n",
       "      <th>count</th>\n",
       "      <th>tf-idf</th>\n",
       "      <th>ngram_words</th>\n",
       "      <th>ngram_chars</th>\n",
       "    </tr>\n",
       "    <tr>\n",
       "      <th>classifier</th>\n",
       "      <th></th>\n",
       "      <th></th>\n",
       "      <th></th>\n",
       "      <th></th>\n",
       "    </tr>\n",
       "  </thead>\n",
       "  <tbody>\n",
       "    <tr>\n",
       "      <th>Naive Bayes</th>\n",
       "      <td>0.968504</td>\n",
       "      <td>0.818898</td>\n",
       "      <td>0.803150</td>\n",
       "      <td>0.803150</td>\n",
       "    </tr>\n",
       "    <tr>\n",
       "      <th>Logistic Regression</th>\n",
       "      <td>0.811024</td>\n",
       "      <td>0.952756</td>\n",
       "      <td>0.811024</td>\n",
       "      <td>0.850394</td>\n",
       "    </tr>\n",
       "    <tr>\n",
       "      <th>Support Vector Classifier</th>\n",
       "      <td>0.960630</td>\n",
       "      <td>0.960630</td>\n",
       "      <td>0.889764</td>\n",
       "      <td>0.937008</td>\n",
       "    </tr>\n",
       "    <tr>\n",
       "      <th>Random Forest</th>\n",
       "      <td>0.881890</td>\n",
       "      <td>0.881890</td>\n",
       "      <td>0.874016</td>\n",
       "      <td>0.881890</td>\n",
       "    </tr>\n",
       "    <tr>\n",
       "      <th>ANN</th>\n",
       "      <td>0.881890</td>\n",
       "      <td>0.889764</td>\n",
       "      <td>0.889764</td>\n",
       "      <td>0.968504</td>\n",
       "    </tr>\n",
       "    <tr>\n",
       "      <th>ANN+Logistic Regression</th>\n",
       "      <td>0.897638</td>\n",
       "      <td>0.881890</td>\n",
       "      <td>0.874016</td>\n",
       "      <td>0.968504</td>\n",
       "    </tr>\n",
       "  </tbody>\n",
       "</table>\n",
       "</div>"
      ],
      "text/plain": [
       "                              count    tf-idf  ngram_words  ngram_chars\n",
       "classifier                                                             \n",
       "Naive Bayes                0.968504  0.818898     0.803150     0.803150\n",
       "Logistic Regression        0.811024  0.952756     0.811024     0.850394\n",
       "Support Vector Classifier  0.960630  0.960630     0.889764     0.937008\n",
       "Random Forest              0.881890  0.881890     0.874016     0.881890\n",
       "ANN                        0.881890  0.889764     0.889764     0.968504\n",
       "ANN+Logistic Regression    0.897638  0.881890     0.874016     0.968504"
      ]
     },
     "execution_count": 121,
     "metadata": {},
     "output_type": "execute_result"
    }
   ],
   "source": [
    "print(\"--\"*40)\n",
    "print(\">> MODEL acuracy for different Classifier-Vectorizer Combinations\")\n",
    "print(\"--\"*40)\n",
    "accu_df=pd.DataFrame(accu_dict).set_index('classifier')\n",
    "accu_df"
   ]
  },
  {
   "cell_type": "markdown",
   "metadata": {},
   "source": [
    "<div style=\"background-color:#9ACD32;text-align:center;font-size: 300%\"><strong><br>\n",
    "PART- VI\n",
    "<br><br></strong></div>\n"
   ]
  },
  {
   "cell_type": "markdown",
   "metadata": {},
   "source": [
    "# Document term metrics"
   ]
  },
  {
   "cell_type": "code",
   "execution_count": 122,
   "metadata": {},
   "outputs": [
    {
     "name": "stdout",
     "output_type": "stream",
     "text": [
      "34247\n",
      "['1', '1 2', '1 2 weeks', '1 8', '1 8 percent']\n"
     ]
    },
    {
     "data": {
      "text/plain": [
       "numpy.ndarray"
      ]
     },
     "execution_count": 122,
     "metadata": {},
     "output_type": "execute_result"
    }
   ],
   "source": [
    "#count_vect.get_feature_names()\n",
    "print(len(count_vect.get_feature_names()))\n",
    "print(count_vect.get_feature_names()[:5])\n",
    "type(X_train_tfidf.toarray())  #2D numpy array\n"
   ]
  },
  {
   "cell_type": "code",
   "execution_count": 158,
   "metadata": {},
   "outputs": [
    {
     "name": "stdout",
     "output_type": "stream",
     "text": [
      "(378, 34247)\n"
     ]
    },
    {
     "data": {
      "text/html": [
       "<div>\n",
       "<style scoped>\n",
       "    .dataframe tbody tr th:only-of-type {\n",
       "        vertical-align: middle;\n",
       "    }\n",
       "\n",
       "    .dataframe tbody tr th {\n",
       "        vertical-align: top;\n",
       "    }\n",
       "\n",
       "    .dataframe thead th {\n",
       "        text-align: right;\n",
       "    }\n",
       "</style>\n",
       "<table border=\"1\" class=\"dataframe\">\n",
       "  <thead>\n",
       "    <tr style=\"text-align: right;\">\n",
       "      <th></th>\n",
       "      <th>0</th>\n",
       "      <th>1</th>\n",
       "      <th>2</th>\n",
       "      <th>3</th>\n",
       "      <th>4</th>\n",
       "      <th>5</th>\n",
       "      <th>6</th>\n",
       "      <th>7</th>\n",
       "      <th>8</th>\n",
       "      <th>9</th>\n",
       "    </tr>\n",
       "  </thead>\n",
       "  <tbody>\n",
       "    <tr>\n",
       "      <th>1</th>\n",
       "      <td>0.0</td>\n",
       "      <td>0.0</td>\n",
       "      <td>0.0</td>\n",
       "      <td>0.0</td>\n",
       "      <td>0.0</td>\n",
       "      <td>0.000000</td>\n",
       "      <td>0.0</td>\n",
       "      <td>0.0</td>\n",
       "      <td>0.0</td>\n",
       "      <td>0.0</td>\n",
       "    </tr>\n",
       "    <tr>\n",
       "      <th>1 2</th>\n",
       "      <td>0.0</td>\n",
       "      <td>0.0</td>\n",
       "      <td>0.0</td>\n",
       "      <td>0.0</td>\n",
       "      <td>0.0</td>\n",
       "      <td>0.000000</td>\n",
       "      <td>0.0</td>\n",
       "      <td>0.0</td>\n",
       "      <td>0.0</td>\n",
       "      <td>0.0</td>\n",
       "    </tr>\n",
       "    <tr>\n",
       "      <th>1 2 weeks</th>\n",
       "      <td>0.0</td>\n",
       "      <td>0.0</td>\n",
       "      <td>0.0</td>\n",
       "      <td>0.0</td>\n",
       "      <td>0.0</td>\n",
       "      <td>0.000000</td>\n",
       "      <td>0.0</td>\n",
       "      <td>0.0</td>\n",
       "      <td>0.0</td>\n",
       "      <td>0.0</td>\n",
       "    </tr>\n",
       "    <tr>\n",
       "      <th>1 8</th>\n",
       "      <td>0.0</td>\n",
       "      <td>0.0</td>\n",
       "      <td>0.0</td>\n",
       "      <td>0.0</td>\n",
       "      <td>0.0</td>\n",
       "      <td>0.000000</td>\n",
       "      <td>0.0</td>\n",
       "      <td>0.0</td>\n",
       "      <td>0.0</td>\n",
       "      <td>0.0</td>\n",
       "    </tr>\n",
       "    <tr>\n",
       "      <th>1 8 percent</th>\n",
       "      <td>0.0</td>\n",
       "      <td>0.0</td>\n",
       "      <td>0.0</td>\n",
       "      <td>0.0</td>\n",
       "      <td>0.0</td>\n",
       "      <td>0.000000</td>\n",
       "      <td>0.0</td>\n",
       "      <td>0.0</td>\n",
       "      <td>0.0</td>\n",
       "      <td>0.0</td>\n",
       "    </tr>\n",
       "    <tr>\n",
       "      <th>1 month</th>\n",
       "      <td>0.0</td>\n",
       "      <td>0.0</td>\n",
       "      <td>0.0</td>\n",
       "      <td>0.0</td>\n",
       "      <td>0.0</td>\n",
       "      <td>0.000000</td>\n",
       "      <td>0.0</td>\n",
       "      <td>0.0</td>\n",
       "      <td>0.0</td>\n",
       "      <td>0.0</td>\n",
       "    </tr>\n",
       "    <tr>\n",
       "      <th>1 month later</th>\n",
       "      <td>0.0</td>\n",
       "      <td>0.0</td>\n",
       "      <td>0.0</td>\n",
       "      <td>0.0</td>\n",
       "      <td>0.0</td>\n",
       "      <td>0.000000</td>\n",
       "      <td>0.0</td>\n",
       "      <td>0.0</td>\n",
       "      <td>0.0</td>\n",
       "      <td>0.0</td>\n",
       "    </tr>\n",
       "    <tr>\n",
       "      <th>1 real</th>\n",
       "      <td>0.0</td>\n",
       "      <td>0.0</td>\n",
       "      <td>0.0</td>\n",
       "      <td>0.0</td>\n",
       "      <td>0.0</td>\n",
       "      <td>0.000000</td>\n",
       "      <td>0.0</td>\n",
       "      <td>0.0</td>\n",
       "      <td>0.0</td>\n",
       "      <td>0.0</td>\n",
       "    </tr>\n",
       "    <tr>\n",
       "      <th>1 real estate</th>\n",
       "      <td>0.0</td>\n",
       "      <td>0.0</td>\n",
       "      <td>0.0</td>\n",
       "      <td>0.0</td>\n",
       "      <td>0.0</td>\n",
       "      <td>0.000000</td>\n",
       "      <td>0.0</td>\n",
       "      <td>0.0</td>\n",
       "      <td>0.0</td>\n",
       "      <td>0.0</td>\n",
       "    </tr>\n",
       "    <tr>\n",
       "      <th>1 star</th>\n",
       "      <td>0.0</td>\n",
       "      <td>0.0</td>\n",
       "      <td>0.0</td>\n",
       "      <td>0.0</td>\n",
       "      <td>0.0</td>\n",
       "      <td>0.000000</td>\n",
       "      <td>0.0</td>\n",
       "      <td>0.0</td>\n",
       "      <td>0.0</td>\n",
       "      <td>0.0</td>\n",
       "    </tr>\n",
       "    <tr>\n",
       "      <th>1 star my</th>\n",
       "      <td>0.0</td>\n",
       "      <td>0.0</td>\n",
       "      <td>0.0</td>\n",
       "      <td>0.0</td>\n",
       "      <td>0.0</td>\n",
       "      <td>0.000000</td>\n",
       "      <td>0.0</td>\n",
       "      <td>0.0</td>\n",
       "      <td>0.0</td>\n",
       "      <td>0.0</td>\n",
       "    </tr>\n",
       "    <tr>\n",
       "      <th>1 week</th>\n",
       "      <td>0.0</td>\n",
       "      <td>0.0</td>\n",
       "      <td>0.0</td>\n",
       "      <td>0.0</td>\n",
       "      <td>0.0</td>\n",
       "      <td>0.000000</td>\n",
       "      <td>0.0</td>\n",
       "      <td>0.0</td>\n",
       "      <td>0.0</td>\n",
       "      <td>0.0</td>\n",
       "    </tr>\n",
       "    <tr>\n",
       "      <th>1 week in</th>\n",
       "      <td>0.0</td>\n",
       "      <td>0.0</td>\n",
       "      <td>0.0</td>\n",
       "      <td>0.0</td>\n",
       "      <td>0.0</td>\n",
       "      <td>0.000000</td>\n",
       "      <td>0.0</td>\n",
       "      <td>0.0</td>\n",
       "      <td>0.0</td>\n",
       "      <td>0.0</td>\n",
       "    </tr>\n",
       "    <tr>\n",
       "      <th>1 which</th>\n",
       "      <td>0.0</td>\n",
       "      <td>0.0</td>\n",
       "      <td>0.0</td>\n",
       "      <td>0.0</td>\n",
       "      <td>0.0</td>\n",
       "      <td>0.000000</td>\n",
       "      <td>0.0</td>\n",
       "      <td>0.0</td>\n",
       "      <td>0.0</td>\n",
       "      <td>0.0</td>\n",
       "    </tr>\n",
       "    <tr>\n",
       "      <th>1 which saved</th>\n",
       "      <td>0.0</td>\n",
       "      <td>0.0</td>\n",
       "      <td>0.0</td>\n",
       "      <td>0.0</td>\n",
       "      <td>0.0</td>\n",
       "      <td>0.000000</td>\n",
       "      <td>0.0</td>\n",
       "      <td>0.0</td>\n",
       "      <td>0.0</td>\n",
       "      <td>0.0</td>\n",
       "    </tr>\n",
       "    <tr>\n",
       "      <th>10</th>\n",
       "      <td>0.0</td>\n",
       "      <td>0.0</td>\n",
       "      <td>0.0</td>\n",
       "      <td>0.0</td>\n",
       "      <td>0.0</td>\n",
       "      <td>0.111979</td>\n",
       "      <td>0.0</td>\n",
       "      <td>0.0</td>\n",
       "      <td>0.0</td>\n",
       "      <td>0.0</td>\n",
       "    </tr>\n",
       "    <tr>\n",
       "      <th>10 14</th>\n",
       "      <td>0.0</td>\n",
       "      <td>0.0</td>\n",
       "      <td>0.0</td>\n",
       "      <td>0.0</td>\n",
       "      <td>0.0</td>\n",
       "      <td>0.000000</td>\n",
       "      <td>0.0</td>\n",
       "      <td>0.0</td>\n",
       "      <td>0.0</td>\n",
       "      <td>0.0</td>\n",
       "    </tr>\n",
       "    <tr>\n",
       "      <th>10 14 business</th>\n",
       "      <td>0.0</td>\n",
       "      <td>0.0</td>\n",
       "      <td>0.0</td>\n",
       "      <td>0.0</td>\n",
       "      <td>0.0</td>\n",
       "      <td>0.000000</td>\n",
       "      <td>0.0</td>\n",
       "      <td>0.0</td>\n",
       "      <td>0.0</td>\n",
       "      <td>0.0</td>\n",
       "    </tr>\n",
       "    <tr>\n",
       "      <th>10 home</th>\n",
       "      <td>0.0</td>\n",
       "      <td>0.0</td>\n",
       "      <td>0.0</td>\n",
       "      <td>0.0</td>\n",
       "      <td>0.0</td>\n",
       "      <td>0.000000</td>\n",
       "      <td>0.0</td>\n",
       "      <td>0.0</td>\n",
       "      <td>0.0</td>\n",
       "      <td>0.0</td>\n",
       "    </tr>\n",
       "    <tr>\n",
       "      <th>10 home mortgages</th>\n",
       "      <td>0.0</td>\n",
       "      <td>0.0</td>\n",
       "      <td>0.0</td>\n",
       "      <td>0.0</td>\n",
       "      <td>0.0</td>\n",
       "      <td>0.000000</td>\n",
       "      <td>0.0</td>\n",
       "      <td>0.0</td>\n",
       "      <td>0.0</td>\n",
       "      <td>0.0</td>\n",
       "    </tr>\n",
       "    <tr>\n",
       "      <th>10 min</th>\n",
       "      <td>0.0</td>\n",
       "      <td>0.0</td>\n",
       "      <td>0.0</td>\n",
       "      <td>0.0</td>\n",
       "      <td>0.0</td>\n",
       "      <td>0.049170</td>\n",
       "      <td>0.0</td>\n",
       "      <td>0.0</td>\n",
       "      <td>0.0</td>\n",
       "      <td>0.0</td>\n",
       "    </tr>\n",
       "    <tr>\n",
       "      <th>10 min didnt</th>\n",
       "      <td>0.0</td>\n",
       "      <td>0.0</td>\n",
       "      <td>0.0</td>\n",
       "      <td>0.0</td>\n",
       "      <td>0.0</td>\n",
       "      <td>0.049170</td>\n",
       "      <td>0.0</td>\n",
       "      <td>0.0</td>\n",
       "      <td>0.0</td>\n",
       "      <td>0.0</td>\n",
       "    </tr>\n",
       "    <tr>\n",
       "      <th>10 minutes</th>\n",
       "      <td>0.0</td>\n",
       "      <td>0.0</td>\n",
       "      <td>0.0</td>\n",
       "      <td>0.0</td>\n",
       "      <td>0.0</td>\n",
       "      <td>0.049170</td>\n",
       "      <td>0.0</td>\n",
       "      <td>0.0</td>\n",
       "      <td>0.0</td>\n",
       "      <td>0.0</td>\n",
       "    </tr>\n",
       "    <tr>\n",
       "      <th>10 minutes i</th>\n",
       "      <td>0.0</td>\n",
       "      <td>0.0</td>\n",
       "      <td>0.0</td>\n",
       "      <td>0.0</td>\n",
       "      <td>0.0</td>\n",
       "      <td>0.049170</td>\n",
       "      <td>0.0</td>\n",
       "      <td>0.0</td>\n",
       "      <td>0.0</td>\n",
       "      <td>0.0</td>\n",
       "    </tr>\n",
       "    <tr>\n",
       "      <th>10 months</th>\n",
       "      <td>0.0</td>\n",
       "      <td>0.0</td>\n",
       "      <td>0.0</td>\n",
       "      <td>0.0</td>\n",
       "      <td>0.0</td>\n",
       "      <td>0.000000</td>\n",
       "      <td>0.0</td>\n",
       "      <td>0.0</td>\n",
       "      <td>0.0</td>\n",
       "      <td>0.0</td>\n",
       "    </tr>\n",
       "    <tr>\n",
       "      <th>10 months payments</th>\n",
       "      <td>0.0</td>\n",
       "      <td>0.0</td>\n",
       "      <td>0.0</td>\n",
       "      <td>0.0</td>\n",
       "      <td>0.0</td>\n",
       "      <td>0.000000</td>\n",
       "      <td>0.0</td>\n",
       "      <td>0.0</td>\n",
       "      <td>0.0</td>\n",
       "      <td>0.0</td>\n",
       "    </tr>\n",
       "    <tr>\n",
       "      <th>10 times</th>\n",
       "      <td>0.0</td>\n",
       "      <td>0.0</td>\n",
       "      <td>0.0</td>\n",
       "      <td>0.0</td>\n",
       "      <td>0.0</td>\n",
       "      <td>0.045977</td>\n",
       "      <td>0.0</td>\n",
       "      <td>0.0</td>\n",
       "      <td>0.0</td>\n",
       "      <td>0.0</td>\n",
       "    </tr>\n",
       "    <tr>\n",
       "      <th>10 times it</th>\n",
       "      <td>0.0</td>\n",
       "      <td>0.0</td>\n",
       "      <td>0.0</td>\n",
       "      <td>0.0</td>\n",
       "      <td>0.0</td>\n",
       "      <td>0.049170</td>\n",
       "      <td>0.0</td>\n",
       "      <td>0.0</td>\n",
       "      <td>0.0</td>\n",
       "      <td>0.0</td>\n",
       "    </tr>\n",
       "    <tr>\n",
       "      <th>10 times the</th>\n",
       "      <td>0.0</td>\n",
       "      <td>0.0</td>\n",
       "      <td>0.0</td>\n",
       "      <td>0.0</td>\n",
       "      <td>0.0</td>\n",
       "      <td>0.000000</td>\n",
       "      <td>0.0</td>\n",
       "      <td>0.0</td>\n",
       "      <td>0.0</td>\n",
       "      <td>0.0</td>\n",
       "    </tr>\n",
       "    <tr>\n",
       "      <th>10 which</th>\n",
       "      <td>0.0</td>\n",
       "      <td>0.0</td>\n",
       "      <td>0.0</td>\n",
       "      <td>0.0</td>\n",
       "      <td>0.0</td>\n",
       "      <td>0.000000</td>\n",
       "      <td>0.0</td>\n",
       "      <td>0.0</td>\n",
       "      <td>0.0</td>\n",
       "      <td>0.0</td>\n",
       "    </tr>\n",
       "    <tr>\n",
       "      <th>...</th>\n",
       "      <td>...</td>\n",
       "      <td>...</td>\n",
       "      <td>...</td>\n",
       "      <td>...</td>\n",
       "      <td>...</td>\n",
       "      <td>...</td>\n",
       "      <td>...</td>\n",
       "      <td>...</td>\n",
       "      <td>...</td>\n",
       "      <td>...</td>\n",
       "    </tr>\n",
       "    <tr>\n",
       "      <th>your own application</th>\n",
       "      <td>0.0</td>\n",
       "      <td>0.0</td>\n",
       "      <td>0.0</td>\n",
       "      <td>0.0</td>\n",
       "      <td>0.0</td>\n",
       "      <td>0.000000</td>\n",
       "      <td>0.0</td>\n",
       "      <td>0.0</td>\n",
       "      <td>0.0</td>\n",
       "      <td>0.0</td>\n",
       "    </tr>\n",
       "    <tr>\n",
       "      <th>your part</th>\n",
       "      <td>0.0</td>\n",
       "      <td>0.0</td>\n",
       "      <td>0.0</td>\n",
       "      <td>0.0</td>\n",
       "      <td>0.0</td>\n",
       "      <td>0.000000</td>\n",
       "      <td>0.0</td>\n",
       "      <td>0.0</td>\n",
       "      <td>0.0</td>\n",
       "      <td>0.0</td>\n",
       "    </tr>\n",
       "    <tr>\n",
       "      <th>your part and</th>\n",
       "      <td>0.0</td>\n",
       "      <td>0.0</td>\n",
       "      <td>0.0</td>\n",
       "      <td>0.0</td>\n",
       "      <td>0.0</td>\n",
       "      <td>0.000000</td>\n",
       "      <td>0.0</td>\n",
       "      <td>0.0</td>\n",
       "      <td>0.0</td>\n",
       "      <td>0.0</td>\n",
       "    </tr>\n",
       "    <tr>\n",
       "      <th>your patience</th>\n",
       "      <td>0.0</td>\n",
       "      <td>0.0</td>\n",
       "      <td>0.0</td>\n",
       "      <td>0.0</td>\n",
       "      <td>0.0</td>\n",
       "      <td>0.000000</td>\n",
       "      <td>0.0</td>\n",
       "      <td>0.0</td>\n",
       "      <td>0.0</td>\n",
       "      <td>0.0</td>\n",
       "    </tr>\n",
       "    <tr>\n",
       "      <th>your patience and</th>\n",
       "      <td>0.0</td>\n",
       "      <td>0.0</td>\n",
       "      <td>0.0</td>\n",
       "      <td>0.0</td>\n",
       "      <td>0.0</td>\n",
       "      <td>0.000000</td>\n",
       "      <td>0.0</td>\n",
       "      <td>0.0</td>\n",
       "      <td>0.0</td>\n",
       "      <td>0.0</td>\n",
       "    </tr>\n",
       "    <tr>\n",
       "      <th>your patience tgif</th>\n",
       "      <td>0.0</td>\n",
       "      <td>0.0</td>\n",
       "      <td>0.0</td>\n",
       "      <td>0.0</td>\n",
       "      <td>0.0</td>\n",
       "      <td>0.000000</td>\n",
       "      <td>0.0</td>\n",
       "      <td>0.0</td>\n",
       "      <td>0.0</td>\n",
       "      <td>0.0</td>\n",
       "    </tr>\n",
       "    <tr>\n",
       "      <th>your service</th>\n",
       "      <td>0.0</td>\n",
       "      <td>0.0</td>\n",
       "      <td>0.0</td>\n",
       "      <td>0.0</td>\n",
       "      <td>0.0</td>\n",
       "      <td>0.000000</td>\n",
       "      <td>0.0</td>\n",
       "      <td>0.0</td>\n",
       "      <td>0.0</td>\n",
       "      <td>0.0</td>\n",
       "    </tr>\n",
       "    <tr>\n",
       "      <th>your strategy</th>\n",
       "      <td>0.0</td>\n",
       "      <td>0.0</td>\n",
       "      <td>0.0</td>\n",
       "      <td>0.0</td>\n",
       "      <td>0.0</td>\n",
       "      <td>0.000000</td>\n",
       "      <td>0.0</td>\n",
       "      <td>0.0</td>\n",
       "      <td>0.0</td>\n",
       "      <td>0.0</td>\n",
       "    </tr>\n",
       "    <tr>\n",
       "      <th>your strategy is</th>\n",
       "      <td>0.0</td>\n",
       "      <td>0.0</td>\n",
       "      <td>0.0</td>\n",
       "      <td>0.0</td>\n",
       "      <td>0.0</td>\n",
       "      <td>0.000000</td>\n",
       "      <td>0.0</td>\n",
       "      <td>0.0</td>\n",
       "      <td>0.0</td>\n",
       "      <td>0.0</td>\n",
       "    </tr>\n",
       "    <tr>\n",
       "      <th>your support</th>\n",
       "      <td>0.0</td>\n",
       "      <td>0.0</td>\n",
       "      <td>0.0</td>\n",
       "      <td>0.0</td>\n",
       "      <td>0.0</td>\n",
       "      <td>0.000000</td>\n",
       "      <td>0.0</td>\n",
       "      <td>0.0</td>\n",
       "      <td>0.0</td>\n",
       "      <td>0.0</td>\n",
       "    </tr>\n",
       "    <tr>\n",
       "      <th>your support and</th>\n",
       "      <td>0.0</td>\n",
       "      <td>0.0</td>\n",
       "      <td>0.0</td>\n",
       "      <td>0.0</td>\n",
       "      <td>0.0</td>\n",
       "      <td>0.000000</td>\n",
       "      <td>0.0</td>\n",
       "      <td>0.0</td>\n",
       "      <td>0.0</td>\n",
       "      <td>0.0</td>\n",
       "    </tr>\n",
       "    <tr>\n",
       "      <th>your team</th>\n",
       "      <td>0.0</td>\n",
       "      <td>0.0</td>\n",
       "      <td>0.0</td>\n",
       "      <td>0.0</td>\n",
       "      <td>0.0</td>\n",
       "      <td>0.000000</td>\n",
       "      <td>0.0</td>\n",
       "      <td>0.0</td>\n",
       "      <td>0.0</td>\n",
       "      <td>0.0</td>\n",
       "    </tr>\n",
       "    <tr>\n",
       "      <th>your team for</th>\n",
       "      <td>0.0</td>\n",
       "      <td>0.0</td>\n",
       "      <td>0.0</td>\n",
       "      <td>0.0</td>\n",
       "      <td>0.0</td>\n",
       "      <td>0.000000</td>\n",
       "      <td>0.0</td>\n",
       "      <td>0.0</td>\n",
       "      <td>0.0</td>\n",
       "      <td>0.0</td>\n",
       "    </tr>\n",
       "    <tr>\n",
       "      <th>your the</th>\n",
       "      <td>0.0</td>\n",
       "      <td>0.0</td>\n",
       "      <td>0.0</td>\n",
       "      <td>0.0</td>\n",
       "      <td>0.0</td>\n",
       "      <td>0.000000</td>\n",
       "      <td>0.0</td>\n",
       "      <td>0.0</td>\n",
       "      <td>0.0</td>\n",
       "      <td>0.0</td>\n",
       "    </tr>\n",
       "    <tr>\n",
       "      <th>your the best</th>\n",
       "      <td>0.0</td>\n",
       "      <td>0.0</td>\n",
       "      <td>0.0</td>\n",
       "      <td>0.0</td>\n",
       "      <td>0.0</td>\n",
       "      <td>0.000000</td>\n",
       "      <td>0.0</td>\n",
       "      <td>0.0</td>\n",
       "      <td>0.0</td>\n",
       "      <td>0.0</td>\n",
       "    </tr>\n",
       "    <tr>\n",
       "      <th>your time</th>\n",
       "      <td>0.0</td>\n",
       "      <td>0.0</td>\n",
       "      <td>0.0</td>\n",
       "      <td>0.0</td>\n",
       "      <td>0.0</td>\n",
       "      <td>0.000000</td>\n",
       "      <td>0.0</td>\n",
       "      <td>0.0</td>\n",
       "      <td>0.0</td>\n",
       "      <td>0.0</td>\n",
       "    </tr>\n",
       "    <tr>\n",
       "      <th>your time with</th>\n",
       "      <td>0.0</td>\n",
       "      <td>0.0</td>\n",
       "      <td>0.0</td>\n",
       "      <td>0.0</td>\n",
       "      <td>0.0</td>\n",
       "      <td>0.000000</td>\n",
       "      <td>0.0</td>\n",
       "      <td>0.0</td>\n",
       "      <td>0.0</td>\n",
       "      <td>0.0</td>\n",
       "    </tr>\n",
       "    <tr>\n",
       "      <th>yourself</th>\n",
       "      <td>0.0</td>\n",
       "      <td>0.0</td>\n",
       "      <td>0.0</td>\n",
       "      <td>0.0</td>\n",
       "      <td>0.0</td>\n",
       "      <td>0.000000</td>\n",
       "      <td>0.0</td>\n",
       "      <td>0.0</td>\n",
       "      <td>0.0</td>\n",
       "      <td>0.0</td>\n",
       "    </tr>\n",
       "    <tr>\n",
       "      <th>yourself time</th>\n",
       "      <td>0.0</td>\n",
       "      <td>0.0</td>\n",
       "      <td>0.0</td>\n",
       "      <td>0.0</td>\n",
       "      <td>0.0</td>\n",
       "      <td>0.000000</td>\n",
       "      <td>0.0</td>\n",
       "      <td>0.0</td>\n",
       "      <td>0.0</td>\n",
       "      <td>0.0</td>\n",
       "    </tr>\n",
       "    <tr>\n",
       "      <th>yourself time money</th>\n",
       "      <td>0.0</td>\n",
       "      <td>0.0</td>\n",
       "      <td>0.0</td>\n",
       "      <td>0.0</td>\n",
       "      <td>0.0</td>\n",
       "      <td>0.000000</td>\n",
       "      <td>0.0</td>\n",
       "      <td>0.0</td>\n",
       "      <td>0.0</td>\n",
       "      <td>0.0</td>\n",
       "    </tr>\n",
       "    <tr>\n",
       "      <th>yourself to</th>\n",
       "      <td>0.0</td>\n",
       "      <td>0.0</td>\n",
       "      <td>0.0</td>\n",
       "      <td>0.0</td>\n",
       "      <td>0.0</td>\n",
       "      <td>0.000000</td>\n",
       "      <td>0.0</td>\n",
       "      <td>0.0</td>\n",
       "      <td>0.0</td>\n",
       "      <td>0.0</td>\n",
       "    </tr>\n",
       "    <tr>\n",
       "      <th>yourself to work</th>\n",
       "      <td>0.0</td>\n",
       "      <td>0.0</td>\n",
       "      <td>0.0</td>\n",
       "      <td>0.0</td>\n",
       "      <td>0.0</td>\n",
       "      <td>0.000000</td>\n",
       "      <td>0.0</td>\n",
       "      <td>0.0</td>\n",
       "      <td>0.0</td>\n",
       "      <td>0.0</td>\n",
       "    </tr>\n",
       "    <tr>\n",
       "      <th>zelada</th>\n",
       "      <td>0.0</td>\n",
       "      <td>0.0</td>\n",
       "      <td>0.0</td>\n",
       "      <td>0.0</td>\n",
       "      <td>0.0</td>\n",
       "      <td>0.000000</td>\n",
       "      <td>0.0</td>\n",
       "      <td>0.0</td>\n",
       "      <td>0.0</td>\n",
       "      <td>0.0</td>\n",
       "    </tr>\n",
       "    <tr>\n",
       "      <th>zelada worked</th>\n",
       "      <td>0.0</td>\n",
       "      <td>0.0</td>\n",
       "      <td>0.0</td>\n",
       "      <td>0.0</td>\n",
       "      <td>0.0</td>\n",
       "      <td>0.000000</td>\n",
       "      <td>0.0</td>\n",
       "      <td>0.0</td>\n",
       "      <td>0.0</td>\n",
       "      <td>0.0</td>\n",
       "    </tr>\n",
       "    <tr>\n",
       "      <th>zelada worked very</th>\n",
       "      <td>0.0</td>\n",
       "      <td>0.0</td>\n",
       "      <td>0.0</td>\n",
       "      <td>0.0</td>\n",
       "      <td>0.0</td>\n",
       "      <td>0.000000</td>\n",
       "      <td>0.0</td>\n",
       "      <td>0.0</td>\n",
       "      <td>0.0</td>\n",
       "      <td>0.0</td>\n",
       "    </tr>\n",
       "    <tr>\n",
       "      <th>zero</th>\n",
       "      <td>0.0</td>\n",
       "      <td>0.0</td>\n",
       "      <td>0.0</td>\n",
       "      <td>0.0</td>\n",
       "      <td>0.0</td>\n",
       "      <td>0.000000</td>\n",
       "      <td>0.0</td>\n",
       "      <td>0.0</td>\n",
       "      <td>0.0</td>\n",
       "      <td>0.0</td>\n",
       "    </tr>\n",
       "    <tr>\n",
       "      <th>zero options</th>\n",
       "      <td>0.0</td>\n",
       "      <td>0.0</td>\n",
       "      <td>0.0</td>\n",
       "      <td>0.0</td>\n",
       "      <td>0.0</td>\n",
       "      <td>0.000000</td>\n",
       "      <td>0.0</td>\n",
       "      <td>0.0</td>\n",
       "      <td>0.0</td>\n",
       "      <td>0.0</td>\n",
       "    </tr>\n",
       "    <tr>\n",
       "      <th>zero options for</th>\n",
       "      <td>0.0</td>\n",
       "      <td>0.0</td>\n",
       "      <td>0.0</td>\n",
       "      <td>0.0</td>\n",
       "      <td>0.0</td>\n",
       "      <td>0.000000</td>\n",
       "      <td>0.0</td>\n",
       "      <td>0.0</td>\n",
       "      <td>0.0</td>\n",
       "      <td>0.0</td>\n",
       "    </tr>\n",
       "    <tr>\n",
       "      <th>zero point</th>\n",
       "      <td>0.0</td>\n",
       "      <td>0.0</td>\n",
       "      <td>0.0</td>\n",
       "      <td>0.0</td>\n",
       "      <td>0.0</td>\n",
       "      <td>0.000000</td>\n",
       "      <td>0.0</td>\n",
       "      <td>0.0</td>\n",
       "      <td>0.0</td>\n",
       "      <td>0.0</td>\n",
       "    </tr>\n",
       "    <tr>\n",
       "      <th>zero point rate</th>\n",
       "      <td>0.0</td>\n",
       "      <td>0.0</td>\n",
       "      <td>0.0</td>\n",
       "      <td>0.0</td>\n",
       "      <td>0.0</td>\n",
       "      <td>0.000000</td>\n",
       "      <td>0.0</td>\n",
       "      <td>0.0</td>\n",
       "      <td>0.0</td>\n",
       "      <td>0.0</td>\n",
       "    </tr>\n",
       "  </tbody>\n",
       "</table>\n",
       "<p>34247 rows × 10 columns</p>\n",
       "</div>"
      ],
      "text/plain": [
       "                        0    1    2    3    4         5    6    7    8    9\n",
       "1                     0.0  0.0  0.0  0.0  0.0  0.000000  0.0  0.0  0.0  0.0\n",
       "1 2                   0.0  0.0  0.0  0.0  0.0  0.000000  0.0  0.0  0.0  0.0\n",
       "1 2 weeks             0.0  0.0  0.0  0.0  0.0  0.000000  0.0  0.0  0.0  0.0\n",
       "1 8                   0.0  0.0  0.0  0.0  0.0  0.000000  0.0  0.0  0.0  0.0\n",
       "1 8 percent           0.0  0.0  0.0  0.0  0.0  0.000000  0.0  0.0  0.0  0.0\n",
       "1 month               0.0  0.0  0.0  0.0  0.0  0.000000  0.0  0.0  0.0  0.0\n",
       "1 month later         0.0  0.0  0.0  0.0  0.0  0.000000  0.0  0.0  0.0  0.0\n",
       "1 real                0.0  0.0  0.0  0.0  0.0  0.000000  0.0  0.0  0.0  0.0\n",
       "1 real estate         0.0  0.0  0.0  0.0  0.0  0.000000  0.0  0.0  0.0  0.0\n",
       "1 star                0.0  0.0  0.0  0.0  0.0  0.000000  0.0  0.0  0.0  0.0\n",
       "1 star my             0.0  0.0  0.0  0.0  0.0  0.000000  0.0  0.0  0.0  0.0\n",
       "1 week                0.0  0.0  0.0  0.0  0.0  0.000000  0.0  0.0  0.0  0.0\n",
       "1 week in             0.0  0.0  0.0  0.0  0.0  0.000000  0.0  0.0  0.0  0.0\n",
       "1 which               0.0  0.0  0.0  0.0  0.0  0.000000  0.0  0.0  0.0  0.0\n",
       "1 which saved         0.0  0.0  0.0  0.0  0.0  0.000000  0.0  0.0  0.0  0.0\n",
       "10                    0.0  0.0  0.0  0.0  0.0  0.111979  0.0  0.0  0.0  0.0\n",
       "10 14                 0.0  0.0  0.0  0.0  0.0  0.000000  0.0  0.0  0.0  0.0\n",
       "10 14 business        0.0  0.0  0.0  0.0  0.0  0.000000  0.0  0.0  0.0  0.0\n",
       "10 home               0.0  0.0  0.0  0.0  0.0  0.000000  0.0  0.0  0.0  0.0\n",
       "10 home mortgages     0.0  0.0  0.0  0.0  0.0  0.000000  0.0  0.0  0.0  0.0\n",
       "10 min                0.0  0.0  0.0  0.0  0.0  0.049170  0.0  0.0  0.0  0.0\n",
       "10 min didnt          0.0  0.0  0.0  0.0  0.0  0.049170  0.0  0.0  0.0  0.0\n",
       "10 minutes            0.0  0.0  0.0  0.0  0.0  0.049170  0.0  0.0  0.0  0.0\n",
       "10 minutes i          0.0  0.0  0.0  0.0  0.0  0.049170  0.0  0.0  0.0  0.0\n",
       "10 months             0.0  0.0  0.0  0.0  0.0  0.000000  0.0  0.0  0.0  0.0\n",
       "10 months payments    0.0  0.0  0.0  0.0  0.0  0.000000  0.0  0.0  0.0  0.0\n",
       "10 times              0.0  0.0  0.0  0.0  0.0  0.045977  0.0  0.0  0.0  0.0\n",
       "10 times it           0.0  0.0  0.0  0.0  0.0  0.049170  0.0  0.0  0.0  0.0\n",
       "10 times the          0.0  0.0  0.0  0.0  0.0  0.000000  0.0  0.0  0.0  0.0\n",
       "10 which              0.0  0.0  0.0  0.0  0.0  0.000000  0.0  0.0  0.0  0.0\n",
       "...                   ...  ...  ...  ...  ...       ...  ...  ...  ...  ...\n",
       "your own application  0.0  0.0  0.0  0.0  0.0  0.000000  0.0  0.0  0.0  0.0\n",
       "your part             0.0  0.0  0.0  0.0  0.0  0.000000  0.0  0.0  0.0  0.0\n",
       "your part and         0.0  0.0  0.0  0.0  0.0  0.000000  0.0  0.0  0.0  0.0\n",
       "your patience         0.0  0.0  0.0  0.0  0.0  0.000000  0.0  0.0  0.0  0.0\n",
       "your patience and     0.0  0.0  0.0  0.0  0.0  0.000000  0.0  0.0  0.0  0.0\n",
       "your patience tgif    0.0  0.0  0.0  0.0  0.0  0.000000  0.0  0.0  0.0  0.0\n",
       "your service          0.0  0.0  0.0  0.0  0.0  0.000000  0.0  0.0  0.0  0.0\n",
       "your strategy         0.0  0.0  0.0  0.0  0.0  0.000000  0.0  0.0  0.0  0.0\n",
       "your strategy is      0.0  0.0  0.0  0.0  0.0  0.000000  0.0  0.0  0.0  0.0\n",
       "your support          0.0  0.0  0.0  0.0  0.0  0.000000  0.0  0.0  0.0  0.0\n",
       "your support and      0.0  0.0  0.0  0.0  0.0  0.000000  0.0  0.0  0.0  0.0\n",
       "your team             0.0  0.0  0.0  0.0  0.0  0.000000  0.0  0.0  0.0  0.0\n",
       "your team for         0.0  0.0  0.0  0.0  0.0  0.000000  0.0  0.0  0.0  0.0\n",
       "your the              0.0  0.0  0.0  0.0  0.0  0.000000  0.0  0.0  0.0  0.0\n",
       "your the best         0.0  0.0  0.0  0.0  0.0  0.000000  0.0  0.0  0.0  0.0\n",
       "your time             0.0  0.0  0.0  0.0  0.0  0.000000  0.0  0.0  0.0  0.0\n",
       "your time with        0.0  0.0  0.0  0.0  0.0  0.000000  0.0  0.0  0.0  0.0\n",
       "yourself              0.0  0.0  0.0  0.0  0.0  0.000000  0.0  0.0  0.0  0.0\n",
       "yourself time         0.0  0.0  0.0  0.0  0.0  0.000000  0.0  0.0  0.0  0.0\n",
       "yourself time money   0.0  0.0  0.0  0.0  0.0  0.000000  0.0  0.0  0.0  0.0\n",
       "yourself to           0.0  0.0  0.0  0.0  0.0  0.000000  0.0  0.0  0.0  0.0\n",
       "yourself to work      0.0  0.0  0.0  0.0  0.0  0.000000  0.0  0.0  0.0  0.0\n",
       "zelada                0.0  0.0  0.0  0.0  0.0  0.000000  0.0  0.0  0.0  0.0\n",
       "zelada worked         0.0  0.0  0.0  0.0  0.0  0.000000  0.0  0.0  0.0  0.0\n",
       "zelada worked very    0.0  0.0  0.0  0.0  0.0  0.000000  0.0  0.0  0.0  0.0\n",
       "zero                  0.0  0.0  0.0  0.0  0.0  0.000000  0.0  0.0  0.0  0.0\n",
       "zero options          0.0  0.0  0.0  0.0  0.0  0.000000  0.0  0.0  0.0  0.0\n",
       "zero options for      0.0  0.0  0.0  0.0  0.0  0.000000  0.0  0.0  0.0  0.0\n",
       "zero point            0.0  0.0  0.0  0.0  0.0  0.000000  0.0  0.0  0.0  0.0\n",
       "zero point rate       0.0  0.0  0.0  0.0  0.0  0.000000  0.0  0.0  0.0  0.0\n",
       "\n",
       "[34247 rows x 10 columns]"
      ]
     },
     "execution_count": 158,
     "metadata": {},
     "output_type": "execute_result"
    }
   ],
   "source": [
    "#dtm>> document-term-metrics\n",
    "dtm=pd.DataFrame(X_train_tfidf.toarray(), columns=count_vect.get_feature_names())\n",
    "print(dtm.shape)\n",
    "dtm.head(10).T"
   ]
  },
  {
   "cell_type": "markdown",
   "metadata": {},
   "source": [
    "# Adding Features to a Document-Term Matrix"
   ]
  },
  {
   "cell_type": "code",
   "execution_count": 124,
   "metadata": {},
   "outputs": [],
   "source": [
    "# create a DataFrame that only contains the 5-star and 1-star reviews\n",
    "dfm=pd.read_excel(\"bank_rev_after_EDA.xlsx\")\n",
    "dfm = dfm.loc[(dfm.Stars==5) | (dfm.Stars==1)][['Stars','Reviews','sentiment']]"
   ]
  },
  {
   "cell_type": "code",
   "execution_count": 125,
   "metadata": {},
   "outputs": [
    {
     "data": {
      "text/html": [
       "<div>\n",
       "<style scoped>\n",
       "    .dataframe tbody tr th:only-of-type {\n",
       "        vertical-align: middle;\n",
       "    }\n",
       "\n",
       "    .dataframe tbody tr th {\n",
       "        vertical-align: top;\n",
       "    }\n",
       "\n",
       "    .dataframe thead th {\n",
       "        text-align: right;\n",
       "    }\n",
       "</style>\n",
       "<table border=\"1\" class=\"dataframe\">\n",
       "  <thead>\n",
       "    <tr style=\"text-align: right;\">\n",
       "      <th></th>\n",
       "      <th>Stars</th>\n",
       "      <th>Reviews</th>\n",
       "      <th>sentiment</th>\n",
       "    </tr>\n",
       "  </thead>\n",
       "  <tbody>\n",
       "    <tr>\n",
       "      <th>0</th>\n",
       "      <td>5</td>\n",
       "      <td>Great job, Wyndham Capital! Each person was pr...</td>\n",
       "      <td>0.533333</td>\n",
       "    </tr>\n",
       "    <tr>\n",
       "      <th>1</th>\n",
       "      <td>5</td>\n",
       "      <td>Matthew Richardson is professional and helpful...</td>\n",
       "      <td>0.453333</td>\n",
       "    </tr>\n",
       "    <tr>\n",
       "      <th>2</th>\n",
       "      <td>5</td>\n",
       "      <td>We had a past experience with Wyndham Mortgage...</td>\n",
       "      <td>-0.033231</td>\n",
       "    </tr>\n",
       "    <tr>\n",
       "      <th>3</th>\n",
       "      <td>5</td>\n",
       "      <td>We have been dealing with Brad Thomka from the...</td>\n",
       "      <td>0.093740</td>\n",
       "    </tr>\n",
       "    <tr>\n",
       "      <th>4</th>\n",
       "      <td>5</td>\n",
       "      <td>I can't express how grateful I am for the supp...</td>\n",
       "      <td>0.125000</td>\n",
       "    </tr>\n",
       "  </tbody>\n",
       "</table>\n",
       "</div>"
      ],
      "text/plain": [
       "   Stars                                            Reviews  sentiment\n",
       "0      5  Great job, Wyndham Capital! Each person was pr...   0.533333\n",
       "1      5  Matthew Richardson is professional and helpful...   0.453333\n",
       "2      5  We had a past experience with Wyndham Mortgage...  -0.033231\n",
       "3      5  We have been dealing with Brad Thomka from the...   0.093740\n",
       "4      5  I can't express how grateful I am for the supp...   0.125000"
      ]
     },
     "execution_count": 125,
     "metadata": {},
     "output_type": "execute_result"
    }
   ],
   "source": [
    "dfm.head()"
   ]
  },
  {
   "cell_type": "code",
   "execution_count": 126,
   "metadata": {},
   "outputs": [],
   "source": [
    "# define X and y\n",
    "feature_cols = ['Reviews','sentiment']\n",
    "X = dfm[feature_cols]\n",
    "y = dfm.Stars\n",
    "\n",
    "# split into training and testing sets\n",
    "X_train, X_test, y_train, y_test = train_test_split(X, y,random_state=101)"
   ]
  },
  {
   "cell_type": "code",
   "execution_count": 127,
   "metadata": {},
   "outputs": [
    {
     "name": "stdout",
     "output_type": "stream",
     "text": [
      "(378, 15942)\n",
      "(127, 15942)\n"
     ]
    },
    {
     "data": {
      "text/plain": [
       "(378, 1)"
      ]
     },
     "execution_count": 127,
     "metadata": {},
     "output_type": "execute_result"
    }
   ],
   "source": [
    "# use CountVectorizer with text column only\n",
    "vect = TfidfVectorizer(lowercase=True, stop_words='english', max_df=0.9,min_df=0.001, ngram_range=(2,3))\n",
    "X_train_dtm = vect.fit_transform(X_train.Reviews)\n",
    "X_test_dtm = vect.transform(X_test.Reviews)\n",
    "print(X_train_dtm.shape)\n",
    "print(X_test_dtm.shape)\n",
    "\n",
    "# shape of other four feature columns\n",
    "X_train.drop('Reviews', axis=1).shape"
   ]
  },
  {
   "cell_type": "code",
   "execution_count": 128,
   "metadata": {},
   "outputs": [
    {
     "name": "stdout",
     "output_type": "stream",
     "text": [
      "(378, 2405)\n",
      "(127, 2405)\n"
     ]
    },
    {
     "data": {
      "text/plain": [
       "(378, 1)"
      ]
     },
     "execution_count": 128,
     "metadata": {},
     "output_type": "execute_result"
    }
   ],
   "source": [
    "# use CountVectorizer with text column only\n",
    "vect = CountVectorizer()\n",
    "X_train_dtm = vect.fit_transform(X_train.Reviews)\n",
    "X_test_dtm = vect.transform(X_test.Reviews)\n",
    "print(X_train_dtm.shape)\n",
    "print(X_test_dtm.shape)\n",
    "\n",
    "# shape of other four feature columns\n",
    "X_train.drop('Reviews', axis=1).shape"
   ]
  },
  {
   "cell_type": "code",
   "execution_count": 132,
   "metadata": {},
   "outputs": [
    {
     "data": {
      "text/plain": [
       "(127, 2406)"
      ]
     },
     "execution_count": 132,
     "metadata": {},
     "output_type": "execute_result"
    }
   ],
   "source": [
    "extra = sparse.csr_matrix(X_train.drop('Reviews', axis=1).astype(float))\n",
    "extra.shape\n",
    "\n",
    "# combine sparse matrices\n",
    "X_train_dtm_extra = sparse.hstack((X_train_dtm, extra))\n",
    "X_train_dtm_extra.shape\n",
    "\n",
    "# repeat for testing set\n",
    "extra = sparse.csr_matrix(X_test.drop('Reviews', axis=1).astype(float))\n",
    "X_test_dtm_extra = sparse.hstack((X_test_dtm, extra))\n",
    "X_test_dtm_extra.shape"
   ]
  },
  {
   "cell_type": "code",
   "execution_count": 133,
   "metadata": {},
   "outputs": [
    {
     "data": {
      "text/plain": [
       "0.9212598425196851"
      ]
     },
     "execution_count": 133,
     "metadata": {},
     "output_type": "execute_result"
    }
   ],
   "source": [
    "# use logistic regression with text column only\n",
    "logreg = LogisticRegression(C=1e9)\n",
    "logreg.fit(X_train_dtm, y_train)\n",
    "y_pred_class = logreg.predict(X_test_dtm)\n",
    "acc_log=metrics.accuracy_score(y_test, y_pred_class)\n",
    "acc_log"
   ]
  },
  {
   "cell_type": "code",
   "execution_count": 134,
   "metadata": {},
   "outputs": [
    {
     "data": {
      "text/plain": [
       "0.937007874015748"
      ]
     },
     "execution_count": 134,
     "metadata": {},
     "output_type": "execute_result"
    }
   ],
   "source": [
    "# use logistic regression with all features\n",
    "logreg = LogisticRegression(C=1e9)\n",
    "logreg.fit(X_train_dtm_extra, y_train)\n",
    "y_pred_class = logreg.predict(X_test_dtm_extra)\n",
    "acc_log1=metrics.accuracy_score(y_test, y_pred_class)\n",
    "acc_log1"
   ]
  },
  {
   "cell_type": "code",
   "execution_count": 135,
   "metadata": {},
   "outputs": [
    {
     "data": {
      "text/plain": [
       "0.8661417322834646"
      ]
     },
     "execution_count": 135,
     "metadata": {},
     "output_type": "execute_result"
    }
   ],
   "source": [
    "# use random forest with text column only\n",
    "rmf = RandomForestClassifier()\n",
    "rmf.fit(X_train_dtm, y_train)\n",
    "y_pred_class = rmf.predict(X_test_dtm)\n",
    "acc_rmf=metrics.accuracy_score(y_test, y_pred_class)\n",
    "acc_rmf"
   ]
  },
  {
   "cell_type": "code",
   "execution_count": 136,
   "metadata": {},
   "outputs": [
    {
     "data": {
      "text/plain": [
       "0.8818897637795275"
      ]
     },
     "execution_count": 136,
     "metadata": {},
     "output_type": "execute_result"
    }
   ],
   "source": [
    "# use random forest with all features\n",
    "rmf = RandomForestClassifier()\n",
    "rmf.fit(X_train_dtm_extra, y_train)\n",
    "y_pred_class = rmf.predict(X_test_dtm_extra)\n",
    "acc_rmf1=metrics.accuracy_score(y_test, y_pred_class)\n",
    "acc_rmf1"
   ]
  },
  {
   "cell_type": "code",
   "execution_count": 137,
   "metadata": {},
   "outputs": [
    {
     "data": {
      "text/plain": [
       "0.9448818897637795"
      ]
     },
     "execution_count": 137,
     "metadata": {},
     "output_type": "execute_result"
    }
   ],
   "source": [
    "# use ANN with text column only\n",
    "mp = MLPClassifier()\n",
    "mp.fit(X_train_dtm, y_train)\n",
    "y_pred_class = mp.predict(X_test_dtm)\n",
    "acc_mlp=metrics.accuracy_score(y_test, y_pred_class)\n",
    "acc_mlp"
   ]
  },
  {
   "cell_type": "code",
   "execution_count": 138,
   "metadata": {},
   "outputs": [
    {
     "data": {
      "text/plain": [
       "0.937007874015748"
      ]
     },
     "execution_count": 138,
     "metadata": {},
     "output_type": "execute_result"
    }
   ],
   "source": [
    "# use ANN with all features\n",
    "mp = MLPClassifier()\n",
    "mp.fit(X_train_dtm_extra, y_train)\n",
    "y_pred_class = mp.predict(X_test_dtm_extra)\n",
    "acc_mlp1=metrics.accuracy_score(y_test, y_pred_class)\n",
    "acc_mlp1"
   ]
  },
  {
   "cell_type": "code",
   "execution_count": 139,
   "metadata": {},
   "outputs": [
    {
     "data": {
      "text/plain": [
       "0.952755905511811"
      ]
     },
     "execution_count": 139,
     "metadata": {},
     "output_type": "execute_result"
    }
   ],
   "source": [
    "# use ANN+logistic with text column only\n",
    "mp = MLPClassifier(activation='logistic')\n",
    "mp.fit(X_train_dtm, y_train)\n",
    "y_pred_class = mp.predict(X_test_dtm)\n",
    "acc_mlp_ln=metrics.accuracy_score(y_test, y_pred_class)\n",
    "acc_mlp_ln"
   ]
  },
  {
   "cell_type": "code",
   "execution_count": 140,
   "metadata": {},
   "outputs": [
    {
     "data": {
      "text/plain": [
       "0.9448818897637795"
      ]
     },
     "execution_count": 140,
     "metadata": {},
     "output_type": "execute_result"
    }
   ],
   "source": [
    "# use ANN+logistic with all features\n",
    "mp = MLPClassifier(activation='logistic')\n",
    "mp.fit(X_train_dtm_extra, y_train)\n",
    "y_pred_class = mp.predict(X_test_dtm_extra)\n",
    "acc_mlp_ln1=metrics.accuracy_score(y_test, y_pred_class)\n",
    "acc_mlp_ln1"
   ]
  },
  {
   "cell_type": "code",
   "execution_count": 142,
   "metadata": {},
   "outputs": [
    {
     "data": {
      "text/html": [
       "<div>\n",
       "<style scoped>\n",
       "    .dataframe tbody tr th:only-of-type {\n",
       "        vertical-align: middle;\n",
       "    }\n",
       "\n",
       "    .dataframe tbody tr th {\n",
       "        vertical-align: top;\n",
       "    }\n",
       "\n",
       "    .dataframe thead th {\n",
       "        text-align: right;\n",
       "    }\n",
       "</style>\n",
       "<table border=\"1\" class=\"dataframe\">\n",
       "  <thead>\n",
       "    <tr style=\"text-align: right;\">\n",
       "      <th></th>\n",
       "      <th>accuracy with text column only</th>\n",
       "      <th>accuracy with all features</th>\n",
       "    </tr>\n",
       "    <tr>\n",
       "      <th>classifier</th>\n",
       "      <th></th>\n",
       "      <th></th>\n",
       "    </tr>\n",
       "  </thead>\n",
       "  <tbody>\n",
       "    <tr>\n",
       "      <th>Logistic regression</th>\n",
       "      <td>0.921260</td>\n",
       "      <td>0.937008</td>\n",
       "    </tr>\n",
       "    <tr>\n",
       "      <th>Random Forest</th>\n",
       "      <td>0.866142</td>\n",
       "      <td>0.881890</td>\n",
       "    </tr>\n",
       "    <tr>\n",
       "      <th>ANN</th>\n",
       "      <td>0.944882</td>\n",
       "      <td>0.937008</td>\n",
       "    </tr>\n",
       "    <tr>\n",
       "      <th>ANN+Logistic</th>\n",
       "      <td>0.952756</td>\n",
       "      <td>0.944882</td>\n",
       "    </tr>\n",
       "  </tbody>\n",
       "</table>\n",
       "</div>"
      ],
      "text/plain": [
       "                     accuracy with text column only  \\\n",
       "classifier                                            \n",
       "Logistic regression                        0.921260   \n",
       "Random Forest                              0.866142   \n",
       "ANN                                        0.944882   \n",
       "ANN+Logistic                               0.952756   \n",
       "\n",
       "                     accuracy with all features  \n",
       "classifier                                       \n",
       "Logistic regression                    0.937008  \n",
       "Random Forest                          0.881890  \n",
       "ANN                                    0.937008  \n",
       "ANN+Logistic                           0.944882  "
      ]
     },
     "execution_count": 142,
     "metadata": {},
     "output_type": "execute_result"
    }
   ],
   "source": [
    "dtm_dict={'classifier':['Logistic regression','Random Forest','ANN','ANN+Logistic'],\n",
    "         'accuracy with text column only':[acc_log,acc_rmf,acc_mlp,acc_mlp_ln],\n",
    "         'accuracy with all features':[acc_log1,acc_rmf1,acc_mlp1,acc_mlp_ln1]}\n",
    "\n",
    "pd.DataFrame(dtm_dict).set_index('classifier')"
   ]
  },
  {
   "cell_type": "markdown",
   "metadata": {},
   "source": [
    "# Topic Modelling"
   ]
  },
  {
   "cell_type": "code",
   "execution_count": 147,
   "metadata": {},
   "outputs": [
    {
     "name": "stdout",
     "output_type": "stream",
     "text": [
      "----------\n",
      " X_topics:\n",
      "----------\n",
      " (378, 20) \n",
      "\n",
      " [[0.00240443 0.00240443 0.00240443 ... 0.00240443 0.12163227 0.00240443]\n",
      " [0.00536528 0.00536528 0.00536528 ... 0.00536528 0.14276697 0.00536528]\n",
      " [0.00431665 0.00431665 0.00431665 ... 0.00431665 0.22015348 0.57082872]\n",
      " ...\n",
      " [0.00233609 0.00233609 0.00233609 ... 0.00233609 0.13745599 0.00233611]\n",
      " [0.00453367 0.00453367 0.00453367 ... 0.00453367 0.17645923 0.00453367]\n",
      " [0.00477241 0.00477241 0.00477241 ... 0.00477241 0.22016372 0.00477241]]\n",
      "-------------\n",
      " topic_word:\n",
      "-------------\n",
      " (20, 34247) \n",
      "\n",
      " [[0.05       0.05       0.05       ... 0.05       0.05       0.05      ]\n",
      " [0.05000001 0.05       0.05       ... 0.05       0.05       0.05      ]\n",
      " [0.05       0.05       0.05       ... 0.05       0.05       0.05      ]\n",
      " ...\n",
      " [0.05       0.05000026 0.05000026 ... 0.05       0.05       0.05      ]\n",
      " [0.14301491 0.05000199 0.05000199 ... 0.05000002 0.05000004 0.05000004]\n",
      " [0.05000006 0.05       0.05       ... 0.05       0.05       0.05      ]]\n",
      "--------\n",
      " vocab:\n",
      "--------\n",
      " 34247 \n",
      "\n",
      " ['1' '1 2' '1 2 weeks' ... 'zero options for' 'zero point'\n",
      " 'zero point rate']\n"
     ]
    }
   ],
   "source": [
    "# train a LDA model(Latent Dirichlet Allocation)\n",
    "\n",
    "from sklearn.decomposition import LatentDirichletAllocation as LDA\n",
    "\n",
    "lda_model = LDA(n_components=20, learning_method='batch',max_iter=50)\n",
    "X_topics =lda_model.fit_transform(X_train_tfidf)\n",
    "topic_word = lda_model.components_\n",
    "vocab = count_vect.get_feature_names()\n",
    "\n",
    "print(\"----------\\n X_topics:\\n----------\\n\",X_topics.shape,\"\\n\\n\",X_topics)\n",
    "print(\"-------------\\n topic_word:\\n-------------\\n\",topic_word.shape,\"\\n\\n\",topic_word)\n",
    "print(\"--------\\n vocab:\\n--------\\n\",len(np.array(vocab)),\"\\n\\n\",np.array(vocab))"
   ]
  },
  {
   "cell_type": "code",
   "execution_count": 148,
   "metadata": {},
   "outputs": [
    {
     "name": "stdout",
     "output_type": "stream",
     "text": [
      "<class 'tuple'>\n"
     ]
    },
    {
     "data": {
      "text/plain": [
       "[(4, array([0.05      , 0.05000026, 0.05000026, ..., 0.05      , 0.05      ,\n",
       "         0.05      ])),\n",
       " (5, array([0.05000003, 0.08039901, 0.08039901, ..., 0.05      , 0.05      ,\n",
       "         0.05      ])),\n",
       " (6, array([0.05000007, 0.05000027, 0.05000027, ..., 0.05      , 0.05      ,\n",
       "         0.05      ])),\n",
       " (7, array([0.05, 0.05, 0.05, ..., 0.05, 0.05, 0.05]))]"
      ]
     },
     "execution_count": 148,
     "metadata": {},
     "output_type": "execute_result"
    }
   ],
   "source": [
    "print(type(list(enumerate(topic_word))[4]))\n",
    "list(enumerate(topic_word))[4:8]  #'enumerate' creates list of tuples"
   ]
  },
  {
   "cell_type": "code",
   "execution_count": 151,
   "metadata": {},
   "outputs": [],
   "source": [
    "# viewing top n=10 words from each vocab\n",
    "n_top_words = 10\n",
    "topic_summaries = []\n",
    "\n",
    "#enumerate method creates a tuple like (index,element) from array\n",
    "#np.argsort returns Array of indices that sort array-argument along the specified axis\n",
    "#[:-(n_top_words+1):-1] indexing code extracts last n-words from the array after sorting\n",
    "\n",
    "for i, topic_dist in enumerate(topic_word):\n",
    "    topic_words = np.array(vocab)[np.argsort(topic_dist)][:-(n_top_words+1):-1]\n",
    "    #print(\">>\",'|'.join(topic_words),\"\\n\")\n",
    "    topic_summaries.append(' '.join(topic_words))"
   ]
  },
  {
   "cell_type": "code",
   "execution_count": 152,
   "metadata": {},
   "outputs": [
    {
     "data": {
      "text/plain": [
       "list"
      ]
     },
     "execution_count": 152,
     "metadata": {},
     "output_type": "execute_result"
    }
   ],
   "source": [
    "type(topic_summaries)"
   ]
  },
  {
   "cell_type": "code",
   "execution_count": 155,
   "metadata": {},
   "outputs": [],
   "source": [
    "#topic_summaries"
   ]
  },
  {
   "cell_type": "code",
   "execution_count": 156,
   "metadata": {},
   "outputs": [
    {
     "data": {
      "text/plain": [
       "<matplotlib.image.AxesImage at 0x232bc0f3dd8>"
      ]
     },
     "execution_count": 156,
     "metadata": {},
     "output_type": "execute_result"
    },
    {
     "data": {
      "image/png": "[encoded data removed]",
      "text/plain": [
       "<Figure size 8640x6480 with 1 Axes>"
      ]
     },
     "metadata": {},
     "output_type": "display_data"
    }
   ],
   "source": [
    "#from wordcloud import WordCloud ,STOPWORDS\n",
    "long_string=' '.join(topic_summaries)\n",
    "\n",
    "bankreviews_wordcloud = WordCloud(background_color='white',\n",
    "                                  colormap=\"Oranges_r\",\n",
    "                                  stopwords=[]).generate(long_string)\n",
    "\n",
    "plt.figure(figsize=(120,90))\n",
    "plt.imshow(bankreviews_wordcloud)"
   ]
  },
  {
   "cell_type": "code",
   "execution_count": null,
   "metadata": {},
   "outputs": [],
   "source": []
  }
 ],
 "metadata": {
  "kernelspec": {
   "display_name": "Python 3",
   "language": "python",
   "name": "python3"
  },
  "language_info": {
   "codemirror_mode": {
    "name": "ipython",
    "version": 3
   },
   "file_extension": ".py",
   "mimetype": "text/x-python",
   "name": "python",
   "nbconvert_exporter": "python",
   "pygments_lexer": "ipython3",
   "version": "3.7.3"
  }
 },
 "nbformat": 4,
 "nbformat_minor": 2
}
